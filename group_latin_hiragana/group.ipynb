{
 "cells": [
  {
   "cell_type": "code",
   "execution_count": 1,
   "metadata": {},
   "outputs": [
    {
     "name": "stderr",
     "output_type": "stream",
     "text": [
      "g:\\venvs\\p39_un\\lib\\site-packages\\tqdm\\auto.py:22: TqdmWarning: IProgress not found. Please update jupyter and ipywidgets. See https://ipywidgets.readthedocs.io/en/stable/user_install.html\n",
      "  from .autonotebook import tqdm as notebook_tqdm\n"
     ]
    }
   ],
   "source": [
    "import numpy as np\n",
    "import sys\n",
    "import matplotlib.pyplot as plt\n",
    "import random\n",
    "import copy\n",
    "import cv2 as cv\n",
    "from sklearn.cluster import DBSCAN, KMeans, SpectralClustering\n",
    "\n",
    "import plotly.express as px\n",
    "import pandas as pd\n",
    "import umap.umap_ as umap\n",
    "import pickle\n",
    "sys.path.append('../')\n",
    "from vae_functions import *"
   ]
  },
  {
   "cell_type": "code",
   "execution_count": 2,
   "metadata": {},
   "outputs": [
    {
     "name": "stdout",
     "output_type": "stream",
     "text": [
      "images (310080, 2, 32, 32)\n",
      "lacina (310080, 32, 32)\n"
     ]
    },
    {
     "data": {
      "image/png": "[encoded data removed]",
      "text/plain": [
       "<Figure size 640x480 with 1 Axes>"
      ]
     },
     "metadata": {},
     "output_type": "display_data"
    },
    {
     "data": {
      "image/png": "[encoded data removed]",
      "text/plain": [
       "<Figure size 640x480 with 1 Axes>"
      ]
     },
     "metadata": {},
     "output_type": "display_data"
    },
    {
     "name": "stdout",
     "output_type": "stream",
     "text": [
      "lacina (103886, 32, 32) --no spaces\n",
      "lacina (103886, 32, 32, 1) --good shape\n"
     ]
    }
   ],
   "source": [
    "cluster_hiragana = np.load(\"cluster_hiragana_35.npy\")\n",
    "cluster_latin = np.load(\"cluster_latin_37.npy\")\n",
    "latin_datasets, hiragana_datasets = read_dataset_no_spaces(PATH)\n",
    "\n",
    "latin_datasets = latin_datasets[:len(cluster_latin)]\n",
    "hiragana_datasets = hiragana_datasets[:len(cluster_hiragana)]\n",
    "\n",
    "path_to_page = 'E:/Studia/SIiUM/sem2/UNN/1_sign_per_class_no_distortions_whole_book/hiragana_img/hiragana_page_6.png'\n",
    "path_to_page1 = 'E:/Studia/SIiUM/sem2/UNN/1_sign_per_class_no_distortions_whole_book/hiragana_img/hiragana_page_1.png'\n",
    "\n",
    "hiragana_page = cv.imread(path_to_page, 0)\n",
    "hiragana_page1 = cv.imread(path_to_page1, 0)\n",
    "\n",
    "autoencoder_hiragana = read_vae('E:/Studia/SIiUM/sem2/UNN/vaeEncoder_hiragana', 'E:/Studia/SIiUM/sem2/UNN/vaeDecoder_hiragana')\n"
   ]
  },
  {
   "cell_type": "code",
   "execution_count": 4,
   "metadata": {},
   "outputs": [
    {
     "ename": "AttributeError",
     "evalue": "'Functional' object has no attribute 'fit_predict'",
     "output_type": "error",
     "traceback": [
      "\u001b[1;31m---------------------------------------------------------------------------\u001b[0m",
      "\u001b[1;31mAttributeError\u001b[0m                            Traceback (most recent call last)",
      "Cell \u001b[1;32mIn [4], line 2\u001b[0m\n\u001b[0;32m      1\u001b[0m spec \u001b[39m=\u001b[39m SpectralClustering(n_clusters \u001b[39m=\u001b[39m \u001b[39m35\u001b[39m, n_init \u001b[39m=\u001b[39m \u001b[39m100\u001b[39m)\n\u001b[1;32m----> 2\u001b[0m _, _, pred \u001b[39m=\u001b[39m autoencoder_hiragana\u001b[39m.\u001b[39;49mencoder\u001b[39m.\u001b[39;49mfit_predict(hiragana_datasets, verbose \u001b[39m=\u001b[39m \u001b[39m0\u001b[39m)\n\u001b[0;32m      3\u001b[0m predicted_classes \u001b[39m=\u001b[39m spec\u001b[39m.\u001b[39mfit(pred)\n",
      "\u001b[1;31mAttributeError\u001b[0m: 'Functional' object has no attribute 'fit_predict'"
     ]
    }
   ],
   "source": [
    "spec = SpectralClustering(n_clusters = 35, n_init = 100)\n",
    "_, _, pred = autoencoder_hiragana.encoder.fit_predict(hiragana_datasets, verbose = 0)\n",
    "predicted_classes = spec.fit(pred)"
   ]
  },
  {
   "cell_type": "code",
   "execution_count": 3,
   "metadata": {},
   "outputs": [],
   "source": [
    "filename_hiragana = 'E:/Studia/SIiUM/sem2/UNN/spec_hiragana_model.sav'\n",
    "filename_latin = 'E:/Studia/SIiUM/sem2/UNN/spec_latin_model.sav'\n",
    "loaded_model_latin = pickle.load(open(filename_latin, 'rb'))\n",
    "loaded_model_hiragana = pickle.load(open(filename_hiragana, 'rb'))"
   ]
  },
  {
   "cell_type": "code",
   "execution_count": 39,
   "metadata": {},
   "outputs": [],
   "source": [
    "def remap_to_lower_class(cluster: np.ndarray, length: int) -> np.ndarray:\n",
    "    cluster = copy.deepcopy(cluster)\n",
    "    min_number = length - 1\n",
    "    max_number = np.max(cluster)\n",
    "    # print(f\"min_number: {min_number}, max_number: {max_number}\")\n",
    "    for i in range(min_number + 1, max_number + 1):\n",
    "        if i <= np.max(cluster):\n",
    "            # print(f\"latin: {i}\")\n",
    "            cluster[cluster == i] = min_number\n",
    "\n",
    "    return cluster[0]\n",
    "\n",
    "def create_class_map(datasets: np.ndarray, labels: np.ndarray, length: int) -> dict:\n",
    "    vals, counts = np.unique(labels, return_counts=True)\n",
    "    # print(f\"vals: {vals}\")\n",
    "    map_dict = {}\n",
    "    for i, id in enumerate(vals):\n",
    "        # if i > length: break\n",
    "        map_dict[id] = datasets[random.choice(np.argwhere(labels == id))].reshape(32,32)\n",
    "    return map_dict\n",
    "\n",
    "# def compere_map_length(map_latin, map_hiragana):\n",
    "#     latin = copy.deepcopy(map_latin)\n",
    "#     hiragana = copy.deepcopy(map_hiragana)\n",
    "#     min_number = np.min([np.max(list(latin.keys())), np.max(list(hiragana.keys()))])\n",
    "#     max_number = np.max([np.max(list(latin.keys())), np.max(list(hiragana.keys()))])\n",
    "\n",
    "#     for i in range(min_number + 1, max_number + 1):\n",
    "#         if i in list(latin.keys()):\n",
    "#             del latin[i]\n",
    "#         if i in list(hiragana.keys()):\n",
    "#             del hiragana[i]\n",
    "#     return latin, hiragana\n",
    "def show_3d(predictions, labels):\n",
    "    data_3d = umap.UMAP(n_neighbors = 10, min_dist = 0.1, n_components = 3, n_epochs = 300, metric = 'correlation').fit_transform(predictions)\n",
    "    df = pd.DataFrame(data_3d, columns = ['x', 'y', 'z'])\n",
    "    fig = px.scatter_3d(df, x = 'x', y = 'y', z = 'z', color = labels, color_continuous_scale = \"jet\", width = 1000, height = 800)\n",
    "    fig.update_traces(marker = dict(size = 1))\n",
    "    fig.show()\n",
    "\n",
    "def generate_decode_list(labels_latin: np.ndarray, labels_hiragana: np.ndarray) -> list:\n",
    "    vals_latin, counts_latin = np.unique(labels_latin, return_counts=True)\n",
    "    # print(f\"vals_latin: {vals_latin}, counts_latin: {counts_latin}\")\n",
    "    latin_sorted, _ = zip(*sorted(zip(vals_latin, counts_latin), key = lambda x:x[1]))\n",
    "    latin_sorted = latin_sorted[::-1]\n",
    "    vals_hiragana, counts_hiragana = np.unique(labels_hiragana, return_counts=True)\n",
    "    # print(f\"vals_hiragana: {vals_hiragana}, counts_hiragana: {counts_hiragana}\")\n",
    "\n",
    "    hiragana_sorted, _ = zip(*sorted(zip(vals_hiragana, counts_hiragana), key = lambda x:x[1]))\n",
    "    hiragana_sorted = hiragana_sorted[::-1]\n",
    "\n",
    "    hiragana_to_latin = {}\n",
    "    # print(f\"latin_sorted: {latin_sorted}\")\n",
    "    # print(f\"hiragana_sorted: {hiragana_sorted}\")\n",
    "    for i in range(len(hiragana_sorted)):\n",
    "        if len(latin_sorted) < i:\n",
    "            hiragana_to_latin[hiragana_sorted[i]] = latin_sorted[len(hiragana_sorted)]\n",
    "        else:\n",
    "            hiragana_to_latin[hiragana_sorted[i]] = latin_sorted[i]\n",
    "    # print(f\"hiragana_to_latin: {hiragana_to_latin}\")\n",
    "    \n",
    "    return hiragana_to_latin\n",
    "\n",
    "def find_space_id(datasets: np.ndarray, noise: bool) -> np.ndarray:\n",
    "    space_id = []\n",
    "    mark_id = []\n",
    "    coef = 0.1 if noise else 0.05\n",
    "    for i in range(len(datasets)):\n",
    "        value, count = np.unique(datasets[i], return_counts= True)\n",
    "        # print(count, value, count[0]/count[-1] )\n",
    "        # if count[0]/count[-1] > coef or count[0] == count[-1]:\n",
    "        if count[0] == count[-1]:\n",
    "            space_id.append(i)\n",
    "        else:\n",
    "            mark_id.append(i)\n",
    "        # plt.imshow(dataset[i], cmap='binary')\n",
    "        # plt.show()\n",
    "    return np.array(mark_id), np.array(space_id)\n",
    "\n",
    "def cut_page(page: np.ndarray, dataset: list = None):\n",
    "    column_num = 80\n",
    "    row_num = 114\n",
    "    letter_size = 32\n",
    "    dataset = []\n",
    "\n",
    "    for row in range(row_num):\n",
    "        for column in range(column_num):\n",
    "            # print(f\"row_num*letter_size:row_num*letter_size + letter_size: {row*letter_size} {row*letter_size + letter_size}\")\n",
    "            # print(f\"column_num*letter_size:column_num*letter_size + letter_size: {column*letter_size} {column*letter_size + letter_size}\")\n",
    "            letter = page[row*letter_size:row*letter_size + letter_size, column*letter_size:column*letter_size + letter_size]\n",
    "            dataset.append(letter)\n",
    "\n",
    "    return np.array(dataset)\n",
    "\n",
    "def spectral_clustering(predictions, spec_model: SpectralClustering) -> np.ndarray:\n",
    "    predicted_classes = spec_model.fit_predict(predictions)\n",
    "    show_3d(predictions, predicted_classes)\n",
    "\n",
    "    return predicted_classes\n",
    "\n",
    "def cluster_dataset(encoder: VAE, dataset: np.ndarray, spec_model: SpectralClustering, num_cluster: int = 35):\n",
    "    _, _, pred = encoder.encoder.fit_predict(dataset, verbose = 0)\n",
    "    cluster = spectral_clustering(pred, spec_model)\n",
    "    return cluster, pred\n",
    "\n",
    "def descrypt_page(page: np.ndarray, page_cluster_label: np.ndarray, latin_dict: dict, hiragana_to_latin: dict, mark_id: list) -> np.ndarray:\n",
    "    column_num = 80\n",
    "    row_num = 114\n",
    "    letter_size = 32\n",
    "    page_latin = copy.deepcopy(page)\n",
    "    space = np.ones((32,32)) * 255\n",
    "    label_number = 0\n",
    "    iter = 0\n",
    "    for row in range(row_num):\n",
    "        for column in range(column_num):\n",
    "            if iter in mark_id:\n",
    "                # print(f\"iter: {iter}, label_number: {label_number}, page_cluster_label[label_number]: {page_cluster_label[label_number]}, hiragana_to_latin[page_cluster_label[label_number]]: {hiragana_to_latin[page_cluster_label[label_number]]}\")\n",
    "                page_latin[row*letter_size:row*letter_size + letter_size, column*letter_size:column*letter_size + letter_size] = latin_dict[hiragana_to_latin[page_cluster_label[label_number]]]\n",
    "                label_number += 1\n",
    "            else:\n",
    "                page_latin[row*letter_size:row*letter_size + letter_size, column*letter_size:column*letter_size + letter_size] = space\n",
    "            iter += 1\n",
    "    return page_latin"
   ]
  },
  {
   "cell_type": "code",
   "execution_count": 5,
   "metadata": {},
   "outputs": [],
   "source": [
    "# cluster_latin_lower = remap_to_lower_class(cluster_latin[np.newaxis], 35)\n",
    "# print(f\"max(cluster_latin_lower): {np.max(cluster_latin_lower)}\")\n",
    "# cluster_hiragana_lower = remap_to_lower_class(cluster_hiragana[np.newaxis], 35)\n",
    "# print(f\"max(cluster_hiragana_lower): {np.max(cluster_hiragana_lower)}\")\n",
    "\n",
    "# latin_lower = np.array(np.unique(cluster_latin_lower, return_counts=True)).T\n",
    "# hiragana_lower = np.array(np.unique(cluster_hiragana_lower, return_counts=True)).T"
   ]
  },
  {
   "cell_type": "code",
   "execution_count": 6,
   "metadata": {},
   "outputs": [],
   "source": [
    "hiragana_to_latin = generate_decode_list(cluster_latin[:,np.newaxis], cluster_hiragana[:,np.newaxis])\n",
    "latin_datasets[latin_datasets == 1] = 255\n",
    "hiragana_datasets[hiragana_datasets == 1] = 255\n",
    "map_latin = create_class_map(latin_datasets, cluster_latin, 35)\n",
    "map_hiragana = create_class_map(hiragana_datasets, cluster_hiragana, 35)"
   ]
  },
  {
   "cell_type": "code",
   "execution_count": 7,
   "metadata": {},
   "outputs": [],
   "source": [
    "# for i in range(35):\n",
    "#     plt.imshow(map_latin[i])\n",
    "#     plt.show()"
   ]
  },
  {
   "cell_type": "code",
   "execution_count": 41,
   "metadata": {},
   "outputs": [
    {
     "ename": "AttributeError",
     "evalue": "'Functional' object has no attribute 'fit_predict'",
     "output_type": "error",
     "traceback": [
      "\u001b[1;31m---------------------------------------------------------------------------\u001b[0m",
      "\u001b[1;31mAttributeError\u001b[0m                            Traceback (most recent call last)",
      "Cell \u001b[1;32mIn [41], line 6\u001b[0m\n\u001b[0;32m      4\u001b[0m dataset_hiragana[dataset_hiragana \u001b[39m==\u001b[39m \u001b[39m1\u001b[39m] \u001b[39m=\u001b[39m \u001b[39m255\u001b[39m\n\u001b[0;32m      5\u001b[0m mark_id, space_id \u001b[39m=\u001b[39m find_space_id(dataset_hiragana, \u001b[39mFalse\u001b[39;00m)\n\u001b[1;32m----> 6\u001b[0m cluster_label, pred \u001b[39m=\u001b[39m cluster_dataset(autoencoder_hiragana, dataset_hiragana[mark_id], loaded_model_hiragana, \u001b[39m35\u001b[39;49m)\n",
      "Cell \u001b[1;32mIn [39], line 102\u001b[0m, in \u001b[0;36mcluster_dataset\u001b[1;34m(encoder, dataset, spec_model, num_cluster)\u001b[0m\n\u001b[0;32m    101\u001b[0m \u001b[39mdef\u001b[39;00m \u001b[39mcluster_dataset\u001b[39m(encoder: VAE, dataset: np\u001b[39m.\u001b[39mndarray, spec_model: SpectralClustering, num_cluster: \u001b[39mint\u001b[39m \u001b[39m=\u001b[39m \u001b[39m35\u001b[39m):\n\u001b[1;32m--> 102\u001b[0m     _, _, pred \u001b[39m=\u001b[39m encoder\u001b[39m.\u001b[39;49mencoder\u001b[39m.\u001b[39;49mfit_predict(dataset, verbose \u001b[39m=\u001b[39m \u001b[39m0\u001b[39m)\n\u001b[0;32m    103\u001b[0m     cluster \u001b[39m=\u001b[39m spectral_clustering(pred, spec_model)\n\u001b[0;32m    104\u001b[0m     \u001b[39mreturn\u001b[39;00m cluster, pred\n",
      "\u001b[1;31mAttributeError\u001b[0m: 'Functional' object has no attribute 'fit_predict'"
     ]
    }
   ],
   "source": [
    "dataset_hiragana = cut_page(hiragana_page)\n",
    "# dataset_hiragana = cut_page(hiragana_page1, list(dataset_hiragana_0))\n",
    "\n",
    "dataset_hiragana[dataset_hiragana == 1] = 255\n",
    "mark_id, space_id = find_space_id(dataset_hiragana, False)\n",
    "cluster_label, pred = cluster_dataset(autoencoder_hiragana, dataset_hiragana[mark_id], loaded_model_hiragana, 35)\n"
   ]
  },
  {
   "cell_type": "code",
   "execution_count": 30,
   "metadata": {},
   "outputs": [],
   "source": [
    "page_latin = descrypt_page(hiragana_page1, cluster_label, map_latin, hiragana_to_latin, mark_id)"
   ]
  },
  {
   "cell_type": "code",
   "execution_count": null,
   "metadata": {},
   "outputs": [
    {
     "data": {
      "text/plain": [
       "4874"
      ]
     },
     "execution_count": 53,
     "metadata": {},
     "output_type": "execute_result"
    },
    {
     "ename": "",
     "evalue": "",
     "output_type": "error",
     "traceback": [
      "\u001b[1;31mnotebook controller is DISPOSED. \n",
      "\u001b[1;31mView Jupyter <a href='command:jupyter.viewOutput'>log</a> for further details."
     ]
    },
    {
     "ename": "",
     "evalue": "",
     "output_type": "error",
     "traceback": [
      "\u001b[1;31mnotebook controller is DISPOSED. \n",
      "\u001b[1;31mView Jupyter <a href='command:jupyter.viewOutput'>log</a> for further details."
     ]
    }
   ],
   "source": [
    "len(dataset_hiragana[mark_id])"
   ]
  },
  {
   "cell_type": "code",
   "execution_count": null,
   "metadata": {},
   "outputs": [
    {
     "ename": "",
     "evalue": "",
     "output_type": "error",
     "traceback": [
      "\u001b[1;31mnotebook controller is DISPOSED. \n",
      "\u001b[1;31mView Jupyter <a href='command:jupyter.viewOutput'>log</a> for further details."
     ]
    },
    {
     "ename": "",
     "evalue": "",
     "output_type": "error",
     "traceback": [
      "\u001b[1;31mnotebook controller is DISPOSED. \n",
      "\u001b[1;31mView Jupyter <a href='command:jupyter.viewOutput'>log</a> for further details."
     ]
    }
   ],
   "source": [
    "# page_latin = descrypt_page(hiragana_page, cluster_hiragana, map_latin, hiragana_to_latin, mark_id)\n"
   ]
  },
  {
   "cell_type": "code",
   "execution_count": 31,
   "metadata": {},
   "outputs": [],
   "source": [
    "import matplotlib.image as mplimg\n",
    "\n",
    "mplimg.imsave(f'test3.png',\n",
    "                page_latin, cmap='gray')"
   ]
  },
  {
   "cell_type": "code",
   "execution_count": null,
   "metadata": {},
   "outputs": [
    {
     "data": {
      "image/png": "[encoded data removed]",
      "text/plain": [
       "<Figure size 640x480 with 1 Axes>"
      ]
     },
     "metadata": {},
     "output_type": "display_data"
    },
    {
     "ename": "",
     "evalue": "",
     "output_type": "error",
     "traceback": [
      "\u001b[1;31mnotebook controller is DISPOSED. \n",
      "\u001b[1;31mView Jupyter <a href='command:jupyter.viewOutput'>log</a> for further details."
     ]
    },
    {
     "ename": "",
     "evalue": "",
     "output_type": "error",
     "traceback": [
      "\u001b[1;31mnotebook controller is DISPOSED. \n",
      "\u001b[1;31mView Jupyter <a href='command:jupyter.viewOutput'>log</a> for further details."
     ]
    }
   ],
   "source": [
    "plt.imshow(page_latin[1000:2000, 1000:2000])\n",
    "plt.show()"
   ]
  }
 ],
 "metadata": {
  "kernelspec": {
   "display_name": "p39_un",
   "language": "python",
   "name": "python3"
  },
  "language_info": {
   "codemirror_mode": {
    "name": "ipython",
    "version": 3
   },
   "file_extension": ".py",
   "mimetype": "text/x-python",
   "name": "python",
   "nbconvert_exporter": "python",
   "pygments_lexer": "ipython3",
   "version": "3.9.11"
  },
  "orig_nbformat": 4,
  "vscode": {
   "interpreter": {
    "hash": "81321edee46be8873d0033f37c87d7536853e17aceaf4a78f195ba37bc7f2014"
   }
  }
 },
 "nbformat": 4,
 "nbformat_minor": 2
}
