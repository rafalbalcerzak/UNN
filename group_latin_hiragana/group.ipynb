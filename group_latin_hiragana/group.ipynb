{
 "cells": [
  {
   "cell_type": "code",
   "execution_count": 1,
   "metadata": {},
   "outputs": [],
   "source": [
    "import numpy as np"
   ]
  },
  {
   "cell_type": "code",
   "execution_count": 3,
   "metadata": {},
   "outputs": [],
   "source": [
    "cluster_hiragana = np.load(\"cluster_hiragana_35.npy\")\n",
    "cluster_latin = np.load(\"cluster_latin_37.npy\")"
   ]
  },
  {
   "cell_type": "code",
   "execution_count": 7,
   "metadata": {},
   "outputs": [],
   "source": [
    "count_latin, val_latin = np.unique(cluster_latin, return_counts=True)\n",
    "count_hiragana, val_hiragana = np.unique(cluster_hiragana, return_counts=True)\n"
   ]
  },
  {
   "cell_type": "code",
   "execution_count": 10,
   "metadata": {},
   "outputs": [],
   "source": [
    "latin = np.array(np.unique(cluster_latin, return_counts=True)).T\n",
    "hiragana = np.array(np.unique(cluster_hiragana, return_counts=True)).T\n"
   ]
  },
  {
   "cell_type": "code",
   "execution_count": 15,
   "metadata": {},
   "outputs": [],
   "source": [
    "latin_sorted = latin[latin[:,1].argsort()[::-1]]\n",
    "hiragana_sorted = hiragana[hiragana[:,1].argsort()[::-1]]\n"
   ]
  },
  {
   "cell_type": "code",
   "execution_count": null,
   "metadata": {},
   "outputs": [],
   "source": [
    "    "
   ]
  }
 ],
 "metadata": {
  "kernelspec": {
   "display_name": "p39_un",
   "language": "python",
   "name": "python3"
  },
  "language_info": {
   "codemirror_mode": {
    "name": "ipython",
    "version": 3
   },
   "file_extension": ".py",
   "mimetype": "text/x-python",
   "name": "python",
   "nbconvert_exporter": "python",
   "pygments_lexer": "ipython3",
   "version": "3.9.11"
  },
  "orig_nbformat": 4,
  "vscode": {
   "interpreter": {
    "hash": "92b3f7437a5eddc9eb4bc84143723b8c799a4c5367a095a66df8c89d1d6814a3"
   }
  }
 },
 "nbformat": 4,
 "nbformat_minor": 2
}
