{
 "cells": [
  {
   "cell_type": "code",
   "execution_count": 23,
   "metadata": {
    "collapsed": true,
    "pycharm": {
     "name": "#%%\n"
    }
   },
   "outputs": [],
   "source": [
    "\n",
    "import os\n",
    "\n",
    "import cv2\n",
    "import matplotlib.pyplot as plt\n",
    "import numpy as np\n",
    "from sklearn.decomposition import PCA, SparsePCA, FastICA, NMF, KernelPCA\n",
    "from sklearn.manifold import Isomap, MDS, LocallyLinearEmbedding, SpectralEmbedding"
   ]
  },
  {
   "cell_type": "markdown",
   "metadata": {
    "collapsed": false,
    "pycharm": {
     "name": "#%% md\n"
    }
   },
   "source": [
    "### Read images from folder"
   ]
  },
  {
   "cell_type": "code",
   "execution_count": 57,
   "metadata": {
    "collapsed": false,
    "pycharm": {
     "name": "#%%\n"
    }
   },
   "outputs": [
    {
     "name": "stdout",
     "output_type": "stream",
     "text": [
      "images (8, 3648, 2560)\n"
     ]
    }
   ],
   "source": [
    "folder = \"D:/magist/semestr 2/UczNienadwz/UNN/datasets/n0.07_b1e-05_r30_s15/hiragana_img/\"\n",
    "\n",
    "images = []\n",
    "for filename in os.listdir(folder):\n",
    "    img = cv2.imread(os.path.join(folder,filename), cv2.IMREAD_GRAYSCALE)\n",
    "    if img is not None:\n",
    "        images.append(img)\n",
    "\n",
    "images = np.array(images)\n",
    "print(\"images\", images.shape)"
   ]
  },
  {
   "cell_type": "code",
   "execution_count": 24,
   "metadata": {
    "collapsed": false,
    "pycharm": {
     "name": "#%%\n"
    }
   },
   "outputs": [
    {
     "data": {
      "text/plain": [
       "(5000, 1024)"
      ]
     },
     "execution_count": 24,
     "metadata": {},
     "output_type": "execute_result"
    }
   ],
   "source": [
    "images = np.load('D:/magist/semestr 2/UczNienadwz/UNN/datasets/n0_b0_r0_s0/dataset_n0_b0_r0_s0.npy')\n",
    "\n",
    "images = images[:5000, 0, :, :]\n",
    "images = np.reshape(images, (-1, 32*32))\n",
    "images.shape"
   ]
  },
  {
   "cell_type": "markdown",
   "metadata": {
    "collapsed": false,
    "pycharm": {
     "name": "#%% md\n"
    }
   },
   "source": [
    "### Reshape to 1d"
   ]
  },
  {
   "cell_type": "code",
   "execution_count": 25,
   "metadata": {
    "collapsed": false,
    "pycharm": {
     "name": "#%%\n"
    }
   },
   "outputs": [],
   "source": [
    "# images = np.reshape(images, (-1, 3648*2560))\n",
    "# print(\"images_reshape\", images.shape)\n",
    "N_COMP = 100"
   ]
  },
  {
   "cell_type": "markdown",
   "metadata": {
    "collapsed": false,
    "pycharm": {
     "name": "#%% md\n"
    }
   },
   "source": [
    "### PCA (Principal component analysis)"
   ]
  },
  {
   "cell_type": "code",
   "execution_count": 26,
   "metadata": {
    "collapsed": false,
    "pycharm": {
     "name": "#%%\n"
    }
   },
   "outputs": [
    {
     "data": {
      "image/png": "[encoded data removed]",
      "text/plain": [
       "<Figure size 432x288 with 1 Axes>"
      ]
     },
     "metadata": {
      "needs_background": "light"
     },
     "output_type": "display_data"
    },
    {
     "name": "stdout",
     "output_type": "stream",
     "text": [
      "images_reduced (5000, 100)\n"
     ]
    }
   ],
   "source": [
    "pca = PCA(n_components = N_COMP)\n",
    "pca.fit(images)\n",
    "\n",
    "plt.grid()\n",
    "plt.plot(np.cumsum(pca.explained_variance_ratio_ * 100))\n",
    "plt.xlabel('Number of components')\n",
    "plt.ylabel('Explained variance')\n",
    "plt.show()\n",
    "\n",
    "images_reduced = pca.transform(images)\n",
    "print(\"images_reduced\", images_reduced.shape)"
   ]
  },
  {
   "cell_type": "markdown",
   "metadata": {
    "collapsed": false,
    "pycharm": {
     "name": "#%% md\n"
    }
   },
   "source": [
    "### KPCA (Kernel Principal component analysis)"
   ]
  },
  {
   "cell_type": "code",
   "execution_count": 27,
   "metadata": {
    "collapsed": false,
    "pycharm": {
     "name": "#%%\n"
    }
   },
   "outputs": [
    {
     "name": "stdout",
     "output_type": "stream",
     "text": [
      "images_reduced (5000, 100)\n"
     ]
    }
   ],
   "source": [
    "kernel_pca = KernelPCA(n_components=N_COMP, kernel='linear')\n",
    "kernel_pca.fit(images)\n",
    "\n",
    "images_reduced = kernel_pca.transform(images)\n",
    "print(\"images_reduced\", images_reduced.shape)"
   ]
  },
  {
   "cell_type": "markdown",
   "metadata": {
    "collapsed": false,
    "pycharm": {
     "name": "#%% md\n"
    }
   },
   "source": []
  },
  {
   "cell_type": "code",
   "execution_count": 28,
   "metadata": {
    "collapsed": false,
    "pycharm": {
     "name": "#%%\n"
    }
   },
   "outputs": [
    {
     "name": "stdout",
     "output_type": "stream",
     "text": [
      "images_reduced (5000, 100)\n"
     ]
    }
   ],
   "source": [
    "sparse_pca = SparsePCA(n_components=N_COMP, max_iter = 7)\n",
    "sparse_pca.fit(images)\n",
    "\n",
    "images_reduced = sparse_pca.transform(images)\n",
    "print(\"images_reduced\", images_reduced.shape)"
   ]
  },
  {
   "cell_type": "markdown",
   "metadata": {
    "collapsed": false,
    "pycharm": {
     "name": "#%% md\n"
    }
   },
   "source": [
    "### FastICA (a fast algorithm for Independent Component Analysis)"
   ]
  },
  {
   "cell_type": "code",
   "execution_count": 29,
   "metadata": {
    "collapsed": false,
    "pycharm": {
     "name": "#%%\n"
    }
   },
   "outputs": [
    {
     "name": "stdout",
     "output_type": "stream",
     "text": [
      "images_reduced (5000, 100)\n"
     ]
    }
   ],
   "source": [
    "fast_ica = FastICA(n_components=N_COMP, random_state=0, whiten='unit-variance')\n",
    "fast_ica.fit(images)\n",
    "\n",
    "images_reduced = fast_ica.transform(images)\n",
    "print(\"images_reduced\", images_reduced.shape)"
   ]
  },
  {
   "cell_type": "markdown",
   "metadata": {
    "collapsed": false,
    "pycharm": {
     "name": "#%% md\n"
    }
   },
   "source": [
    "### NMF (Non-Negative Matrix Factorization)"
   ]
  },
  {
   "cell_type": "code",
   "execution_count": 30,
   "metadata": {
    "collapsed": false,
    "pycharm": {
     "name": "#%%\n"
    }
   },
   "outputs": [
    {
     "name": "stderr",
     "output_type": "stream",
     "text": [
      "d:\\magist\\projekty\\analizaobrazow\\lib\\site-packages\\sklearn\\decomposition\\_nmf.py:1692: ConvergenceWarning: Maximum number of iterations 20 reached. Increase it to improve convergence.\n",
      "  warnings.warn(\n"
     ]
    },
    {
     "name": "stdout",
     "output_type": "stream",
     "text": [
      "images_reduced (5000, 100)\n"
     ]
    },
    {
     "name": "stderr",
     "output_type": "stream",
     "text": [
      "d:\\magist\\projekty\\analizaobrazow\\lib\\site-packages\\sklearn\\decomposition\\_nmf.py:1692: ConvergenceWarning: Maximum number of iterations 20 reached. Increase it to improve convergence.\n",
      "  warnings.warn(\n"
     ]
    }
   ],
   "source": [
    "nmf = NMF(n_components=N_COMP, init='random', random_state=0, max_iter = 20)\n",
    "nmf.fit(images)\n",
    "\n",
    "images_reduced = nmf.transform(images)\n",
    "print(\"images_reduced\", images_reduced.shape)"
   ]
  },
  {
   "cell_type": "markdown",
   "metadata": {
    "collapsed": false,
    "pycharm": {
     "name": "#%% md\n"
    }
   },
   "source": [
    "### Isomap Embedding"
   ]
  },
  {
   "cell_type": "code",
   "execution_count": 73,
   "metadata": {
    "collapsed": false,
    "pycharm": {
     "name": "#%%\n"
    }
   },
   "outputs": [
    {
     "ename": "ValueError",
     "evalue": "There are significant negative eigenvalues (0.382201 of the maximum positive). Either the matrix is not PSD, or there was an issue while computing the eigendecomposition of the matrix.",
     "output_type": "error",
     "traceback": [
      "\u001b[1;31m---------------------------------------------------------------------------\u001b[0m",
      "\u001b[1;31mValueError\u001b[0m                                Traceback (most recent call last)",
      "Cell \u001b[1;32mIn [73], line 3\u001b[0m\n\u001b[0;32m      1\u001b[0m isomap \u001b[38;5;241m=\u001b[39m Isomap(n_components\u001b[38;5;241m=\u001b[39mN_COMP)\n\u001b[1;32m----> 3\u001b[0m images_reduced \u001b[38;5;241m=\u001b[39m \u001b[43misomap\u001b[49m\u001b[38;5;241;43m.\u001b[39;49m\u001b[43mfit_transform\u001b[49m\u001b[43m(\u001b[49m\u001b[43mimages\u001b[49m\u001b[43m)\u001b[49m\n\u001b[0;32m      4\u001b[0m \u001b[38;5;28mprint\u001b[39m(\u001b[38;5;124m\"\u001b[39m\u001b[38;5;124mimages_reduced\u001b[39m\u001b[38;5;124m\"\u001b[39m, images_reduced\u001b[38;5;241m.\u001b[39mshape)\n",
      "File \u001b[1;32md:\\magist\\projekty\\analizaobrazow\\lib\\site-packages\\sklearn\\manifold\\_isomap.py:348\u001b[0m, in \u001b[0;36mIsomap.fit_transform\u001b[1;34m(self, X, y)\u001b[0m\n\u001b[0;32m    331\u001b[0m \u001b[38;5;28;01mdef\u001b[39;00m \u001b[38;5;21mfit_transform\u001b[39m(\u001b[38;5;28mself\u001b[39m, X, y\u001b[38;5;241m=\u001b[39m\u001b[38;5;28;01mNone\u001b[39;00m):\n\u001b[0;32m    332\u001b[0m     \u001b[38;5;124;03m\"\"\"Fit the model from data in X and transform X.\u001b[39;00m\n\u001b[0;32m    333\u001b[0m \n\u001b[0;32m    334\u001b[0m \u001b[38;5;124;03m    Parameters\u001b[39;00m\n\u001b[1;32m   (...)\u001b[0m\n\u001b[0;32m    346\u001b[0m \u001b[38;5;124;03m        X transformed in the new space.\u001b[39;00m\n\u001b[0;32m    347\u001b[0m \u001b[38;5;124;03m    \"\"\"\u001b[39;00m\n\u001b[1;32m--> 348\u001b[0m     \u001b[38;5;28;43mself\u001b[39;49m\u001b[38;5;241;43m.\u001b[39;49m\u001b[43m_fit_transform\u001b[49m\u001b[43m(\u001b[49m\u001b[43mX\u001b[49m\u001b[43m)\u001b[49m\n\u001b[0;32m    349\u001b[0m     \u001b[38;5;28;01mreturn\u001b[39;00m \u001b[38;5;28mself\u001b[39m\u001b[38;5;241m.\u001b[39membedding_\n",
      "File \u001b[1;32md:\\magist\\projekty\\analizaobrazow\\lib\\site-packages\\sklearn\\manifold\\_isomap.py:282\u001b[0m, in \u001b[0;36mIsomap._fit_transform\u001b[1;34m(self, X)\u001b[0m\n\u001b[0;32m    279\u001b[0m G \u001b[38;5;241m=\u001b[39m \u001b[38;5;28mself\u001b[39m\u001b[38;5;241m.\u001b[39mdist_matrix_\u001b[38;5;241m*\u001b[39m\u001b[38;5;241m*\u001b[39m\u001b[38;5;241m2\u001b[39m\n\u001b[0;32m    280\u001b[0m G \u001b[38;5;241m*\u001b[39m\u001b[38;5;241m=\u001b[39m \u001b[38;5;241m-\u001b[39m\u001b[38;5;241m0.5\u001b[39m\n\u001b[1;32m--> 282\u001b[0m \u001b[38;5;28mself\u001b[39m\u001b[38;5;241m.\u001b[39membedding_ \u001b[38;5;241m=\u001b[39m \u001b[38;5;28;43mself\u001b[39;49m\u001b[38;5;241;43m.\u001b[39;49m\u001b[43mkernel_pca_\u001b[49m\u001b[38;5;241;43m.\u001b[39;49m\u001b[43mfit_transform\u001b[49m\u001b[43m(\u001b[49m\u001b[43mG\u001b[49m\u001b[43m)\u001b[49m\n\u001b[0;32m    283\u001b[0m \u001b[38;5;28mself\u001b[39m\u001b[38;5;241m.\u001b[39m_n_features_out \u001b[38;5;241m=\u001b[39m \u001b[38;5;28mself\u001b[39m\u001b[38;5;241m.\u001b[39membedding_\u001b[38;5;241m.\u001b[39mshape[\u001b[38;5;241m1\u001b[39m]\n",
      "File \u001b[1;32md:\\magist\\projekty\\analizaobrazow\\lib\\site-packages\\sklearn\\decomposition\\_kernel_pca.py:456\u001b[0m, in \u001b[0;36mKernelPCA.fit_transform\u001b[1;34m(self, X, y, **params)\u001b[0m\n\u001b[0;32m    435\u001b[0m \u001b[38;5;28;01mdef\u001b[39;00m \u001b[38;5;21mfit_transform\u001b[39m(\u001b[38;5;28mself\u001b[39m, X, y\u001b[38;5;241m=\u001b[39m\u001b[38;5;28;01mNone\u001b[39;00m, \u001b[38;5;241m*\u001b[39m\u001b[38;5;241m*\u001b[39mparams):\n\u001b[0;32m    436\u001b[0m     \u001b[38;5;124;03m\"\"\"Fit the model from data in X and transform X.\u001b[39;00m\n\u001b[0;32m    437\u001b[0m \n\u001b[0;32m    438\u001b[0m \u001b[38;5;124;03m    Parameters\u001b[39;00m\n\u001b[1;32m   (...)\u001b[0m\n\u001b[0;32m    454\u001b[0m \u001b[38;5;124;03m        Returns the instance itself.\u001b[39;00m\n\u001b[0;32m    455\u001b[0m \u001b[38;5;124;03m    \"\"\"\u001b[39;00m\n\u001b[1;32m--> 456\u001b[0m     \u001b[38;5;28mself\u001b[39m\u001b[38;5;241m.\u001b[39mfit(X, \u001b[38;5;241m*\u001b[39m\u001b[38;5;241m*\u001b[39mparams)\n\u001b[0;32m    458\u001b[0m     \u001b[38;5;66;03m# no need to use the kernel to transform X, use shortcut expression\u001b[39;00m\n\u001b[0;32m    459\u001b[0m     X_transformed \u001b[38;5;241m=\u001b[39m \u001b[38;5;28mself\u001b[39m\u001b[38;5;241m.\u001b[39meigenvectors_ \u001b[38;5;241m*\u001b[39m np\u001b[38;5;241m.\u001b[39msqrt(\u001b[38;5;28mself\u001b[39m\u001b[38;5;241m.\u001b[39meigenvalues_)\n",
      "File \u001b[1;32md:\\magist\\projekty\\analizaobrazow\\lib\\site-packages\\sklearn\\decomposition\\_kernel_pca.py:424\u001b[0m, in \u001b[0;36mKernelPCA.fit\u001b[1;34m(self, X, y)\u001b[0m\n\u001b[0;32m    422\u001b[0m \u001b[38;5;28mself\u001b[39m\u001b[38;5;241m.\u001b[39m_centerer \u001b[38;5;241m=\u001b[39m KernelCenterer()\n\u001b[0;32m    423\u001b[0m K \u001b[38;5;241m=\u001b[39m \u001b[38;5;28mself\u001b[39m\u001b[38;5;241m.\u001b[39m_get_kernel(X)\n\u001b[1;32m--> 424\u001b[0m \u001b[38;5;28;43mself\u001b[39;49m\u001b[38;5;241;43m.\u001b[39;49m\u001b[43m_fit_transform\u001b[49m\u001b[43m(\u001b[49m\u001b[43mK\u001b[49m\u001b[43m)\u001b[49m\n\u001b[0;32m    426\u001b[0m \u001b[38;5;28;01mif\u001b[39;00m \u001b[38;5;28mself\u001b[39m\u001b[38;5;241m.\u001b[39mfit_inverse_transform:\n\u001b[0;32m    427\u001b[0m     \u001b[38;5;66;03m# no need to use the kernel to transform X, use shortcut expression\u001b[39;00m\n\u001b[0;32m    428\u001b[0m     X_transformed \u001b[38;5;241m=\u001b[39m \u001b[38;5;28mself\u001b[39m\u001b[38;5;241m.\u001b[39meigenvectors_ \u001b[38;5;241m*\u001b[39m np\u001b[38;5;241m.\u001b[39msqrt(\u001b[38;5;28mself\u001b[39m\u001b[38;5;241m.\u001b[39meigenvalues_)\n",
      "File \u001b[1;32md:\\magist\\projekty\\analizaobrazow\\lib\\site-packages\\sklearn\\decomposition\\_kernel_pca.py:350\u001b[0m, in \u001b[0;36mKernelPCA._fit_transform\u001b[1;34m(self, K)\u001b[0m\n\u001b[0;32m    347\u001b[0m     \u001b[38;5;28;01mraise\u001b[39;00m \u001b[38;5;167;01mValueError\u001b[39;00m(\u001b[38;5;124m\"\u001b[39m\u001b[38;5;124mUnsupported value for `eigen_solver`: \u001b[39m\u001b[38;5;132;01m%r\u001b[39;00m\u001b[38;5;124m\"\u001b[39m \u001b[38;5;241m%\u001b[39m eigen_solver)\n\u001b[0;32m    349\u001b[0m \u001b[38;5;66;03m# make sure that the eigenvalues are ok and fix numerical issues\u001b[39;00m\n\u001b[1;32m--> 350\u001b[0m \u001b[38;5;28mself\u001b[39m\u001b[38;5;241m.\u001b[39meigenvalues_ \u001b[38;5;241m=\u001b[39m \u001b[43m_check_psd_eigenvalues\u001b[49m\u001b[43m(\u001b[49m\n\u001b[0;32m    351\u001b[0m \u001b[43m    \u001b[49m\u001b[38;5;28;43mself\u001b[39;49m\u001b[38;5;241;43m.\u001b[39;49m\u001b[43meigenvalues_\u001b[49m\u001b[43m,\u001b[49m\u001b[43m \u001b[49m\u001b[43menable_warnings\u001b[49m\u001b[38;5;241;43m=\u001b[39;49m\u001b[38;5;28;43;01mFalse\u001b[39;49;00m\n\u001b[0;32m    352\u001b[0m \u001b[43m\u001b[49m\u001b[43m)\u001b[49m\n\u001b[0;32m    354\u001b[0m \u001b[38;5;66;03m# flip eigenvectors' sign to enforce deterministic output\u001b[39;00m\n\u001b[0;32m    355\u001b[0m \u001b[38;5;28mself\u001b[39m\u001b[38;5;241m.\u001b[39meigenvectors_, _ \u001b[38;5;241m=\u001b[39m svd_flip(\n\u001b[0;32m    356\u001b[0m     \u001b[38;5;28mself\u001b[39m\u001b[38;5;241m.\u001b[39meigenvectors_, np\u001b[38;5;241m.\u001b[39mzeros_like(\u001b[38;5;28mself\u001b[39m\u001b[38;5;241m.\u001b[39meigenvectors_)\u001b[38;5;241m.\u001b[39mT\n\u001b[0;32m    357\u001b[0m )\n",
      "File \u001b[1;32md:\\magist\\projekty\\analizaobrazow\\lib\\site-packages\\sklearn\\utils\\validation.py:1635\u001b[0m, in \u001b[0;36m_check_psd_eigenvalues\u001b[1;34m(lambdas, enable_warnings)\u001b[0m\n\u001b[0;32m   1630\u001b[0m min_eig \u001b[38;5;241m=\u001b[39m lambdas\u001b[38;5;241m.\u001b[39mmin()\n\u001b[0;32m   1631\u001b[0m \u001b[38;5;28;01mif\u001b[39;00m (\n\u001b[0;32m   1632\u001b[0m     min_eig \u001b[38;5;241m<\u001b[39m \u001b[38;5;241m-\u001b[39msignificant_neg_ratio \u001b[38;5;241m*\u001b[39m max_eig\n\u001b[0;32m   1633\u001b[0m     \u001b[38;5;129;01mand\u001b[39;00m min_eig \u001b[38;5;241m<\u001b[39m \u001b[38;5;241m-\u001b[39msignificant_neg_value\n\u001b[0;32m   1634\u001b[0m ):\n\u001b[1;32m-> 1635\u001b[0m     \u001b[38;5;28;01mraise\u001b[39;00m \u001b[38;5;167;01mValueError\u001b[39;00m(\n\u001b[0;32m   1636\u001b[0m         \u001b[38;5;124m\"\u001b[39m\u001b[38;5;124mThere are significant negative eigenvalues (\u001b[39m\u001b[38;5;132;01m%g\u001b[39;00m\u001b[38;5;124m\"\u001b[39m\n\u001b[0;32m   1637\u001b[0m         \u001b[38;5;124m\"\u001b[39m\u001b[38;5;124m of the maximum positive). Either the matrix is \u001b[39m\u001b[38;5;124m\"\u001b[39m\n\u001b[0;32m   1638\u001b[0m         \u001b[38;5;124m\"\u001b[39m\u001b[38;5;124mnot PSD, or there was an issue while computing \u001b[39m\u001b[38;5;124m\"\u001b[39m\n\u001b[0;32m   1639\u001b[0m         \u001b[38;5;124m\"\u001b[39m\u001b[38;5;124mthe eigendecomposition of the matrix.\u001b[39m\u001b[38;5;124m\"\u001b[39m \u001b[38;5;241m%\u001b[39m (\u001b[38;5;241m-\u001b[39mmin_eig \u001b[38;5;241m/\u001b[39m max_eig)\n\u001b[0;32m   1640\u001b[0m     )\n\u001b[0;32m   1641\u001b[0m \u001b[38;5;28;01melif\u001b[39;00m min_eig \u001b[38;5;241m<\u001b[39m \u001b[38;5;241m0\u001b[39m:\n\u001b[0;32m   1642\u001b[0m     \u001b[38;5;66;03m# Remove all negative values and warn about it\u001b[39;00m\n\u001b[0;32m   1643\u001b[0m     \u001b[38;5;28;01mif\u001b[39;00m enable_warnings:\n",
      "\u001b[1;31mValueError\u001b[0m: There are significant negative eigenvalues (0.382201 of the maximum positive). Either the matrix is not PSD, or there was an issue while computing the eigendecomposition of the matrix."
     ]
    }
   ],
   "source": [
    "# need PSD file ???????????????????????\n",
    "isomap = Isomap(n_components=N_COMP)\n",
    "\n",
    "images_reduced = isomap.fit_transform(images)\n",
    "print(\"images_reduced\", images_reduced.shape)"
   ]
  },
  {
   "cell_type": "markdown",
   "metadata": {
    "collapsed": false,
    "pycharm": {
     "name": "#%% md\n"
    }
   },
   "source": [
    "### MDS (Multidimensional scaling)"
   ]
  },
  {
   "cell_type": "code",
   "execution_count": 31,
   "metadata": {
    "collapsed": false,
    "pycharm": {
     "name": "#%%\n"
    }
   },
   "outputs": [
    {
     "name": "stdout",
     "output_type": "stream",
     "text": [
      "images_reduced (5000, 100)\n"
     ]
    }
   ],
   "source": [
    "mds = MDS(n_components=N_COMP)\n",
    "\n",
    "images_reduced = mds.fit_transform(images)\n",
    "print(\"images_reduced\", images_reduced.shape)"
   ]
  },
  {
   "cell_type": "markdown",
   "metadata": {
    "collapsed": false,
    "pycharm": {
     "name": "#%% md\n"
    }
   },
   "source": [
    "### LLE (Locally Linear Embedding)"
   ]
  },
  {
   "cell_type": "code",
   "execution_count": 32,
   "metadata": {
    "collapsed": false,
    "pycharm": {
     "name": "#%%\n"
    }
   },
   "outputs": [
    {
     "name": "stdout",
     "output_type": "stream",
     "text": [
      "images_reduced (5000, 100)\n"
     ]
    }
   ],
   "source": [
    "lle = LocallyLinearEmbedding(n_components=N_COMP)\n",
    "lle.fit(images)\n",
    "\n",
    "images_reduced = lle.transform(images)\n",
    "print(\"images_reduced\", images_reduced.shape)"
   ]
  },
  {
   "cell_type": "markdown",
   "metadata": {
    "collapsed": false,
    "pycharm": {
     "name": "#%% md\n"
    }
   },
   "source": [
    "### Laplacian (Spectral embedding for non-linear dimensionality reduction)"
   ]
  },
  {
   "cell_type": "code",
   "execution_count": 34,
   "metadata": {
    "collapsed": false,
    "pycharm": {
     "name": "#%%\n"
    }
   },
   "outputs": [
    {
     "name": "stdout",
     "output_type": "stream",
     "text": [
      "images_reduced (5000, 100)\n"
     ]
    }
   ],
   "source": [
    "\n",
    "laplacian = SpectralEmbedding(n_components=N_COMP)\n",
    "\n",
    "images_reduced = laplacian.fit_transform(images)\n",
    "print(\"images_reduced\", images_reduced.shape)"
   ]
  },
  {
   "cell_type": "code",
   "execution_count": null,
   "metadata": {
    "collapsed": false,
    "pycharm": {
     "name": "#%%\n"
    }
   },
   "outputs": [],
   "source": []
  },
  {
   "cell_type": "code",
   "execution_count": null,
   "metadata": {
    "collapsed": false,
    "pycharm": {
     "name": "#%%\n"
    }
   },
   "outputs": [],
   "source": []
  }
 ],
 "metadata": {
  "kernelspec": {
   "display_name": "Python 3",
   "language": "python",
   "name": "python3"
  },
  "language_info": {
   "codemirror_mode": {
    "name": "ipython",
    "version": 2
   },
   "file_extension": ".py",
   "mimetype": "text/x-python",
   "name": "python",
   "nbconvert_exporter": "python",
   "pygments_lexer": "ipython2",
   "version": "3.10.7 (tags/v3.10.7:6cc6b13, Sep  5 2022, 14:08:36) [MSC v.1933 64 bit (AMD64)]"
  },
  "vscode": {
   "interpreter": {
    "hash": "f4c034f4204ff852b7c353c3141df90ef9fbfd4acf634d80f28bb53e2ad87ece"
   }
  }
 },
 "nbformat": 4,
 "nbformat_minor": 0
}
