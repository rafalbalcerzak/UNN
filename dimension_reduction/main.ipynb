{
 "cells": [
  {
   "cell_type": "code",
   "execution_count": 79,
   "metadata": {
    "collapsed": true,
    "pycharm": {
     "name": "#%%\n"
    }
   },
   "outputs": [],
   "source": [
    "\n",
    "import os\n",
    "\n",
    "import cv2\n",
    "import matplotlib.pyplot as plt\n",
    "import numpy as np\n",
    "from sklearn.decomposition import PCA, SparsePCA, FastICA, NMF, KernelPCA\n",
    "from sklearn.manifold import Isomap, MDS, LocallyLinearEmbedding, SpectralEmbedding"
   ]
  },
  {
   "cell_type": "markdown",
   "source": [
    "### Read images from folder"
   ],
   "metadata": {
    "collapsed": false,
    "pycharm": {
     "name": "#%% md\n"
    }
   }
  },
  {
   "cell_type": "code",
   "execution_count": 57,
   "outputs": [
    {
     "name": "stdout",
     "output_type": "stream",
     "text": [
      "images (8, 3648, 2560)\n"
     ]
    }
   ],
   "source": [
    "folder = \"D:/magist/semestr 2/UczNienadwz/UNN/datasets/n0.07_b1e-05_r30_s15/hiragana_img/\"\n",
    "\n",
    "images = []\n",
    "for filename in os.listdir(folder):\n",
    "    img = cv2.imread(os.path.join(folder,filename), cv2.IMREAD_GRAYSCALE)\n",
    "    if img is not None:\n",
    "        images.append(img)\n",
    "\n",
    "images = np.array(images)\n",
    "print(\"images\", images.shape)"
   ],
   "metadata": {
    "collapsed": false,
    "pycharm": {
     "name": "#%%\n"
    }
   }
  },
  {
   "cell_type": "markdown",
   "source": [
    "### Reshape to 1d"
   ],
   "metadata": {
    "collapsed": false,
    "pycharm": {
     "name": "#%% md\n"
    }
   }
  },
  {
   "cell_type": "code",
   "execution_count": 58,
   "outputs": [
    {
     "name": "stdout",
     "output_type": "stream",
     "text": [
      "images_reshape (8, 9338880)\n"
     ]
    }
   ],
   "source": [
    "images = np.reshape(images, (-1, 3648*2560))\n",
    "print(\"images_reshape\", images.shape)\n",
    "N_COMP = 8"
   ],
   "metadata": {
    "collapsed": false,
    "pycharm": {
     "name": "#%%\n"
    }
   }
  },
  {
   "cell_type": "markdown",
   "source": [
    "### PCA (Principal component analysis)"
   ],
   "metadata": {
    "collapsed": false,
    "pycharm": {
     "name": "#%% md\n"
    }
   }
  },
  {
   "cell_type": "code",
   "execution_count": 59,
   "outputs": [
    {
     "data": {
      "text/plain": "<Figure size 432x288 with 1 Axes>",
      "image/png": "[encoded data removed]"
     },
     "metadata": {
      "needs_background": "light"
     },
     "output_type": "display_data"
    },
    {
     "name": "stdout",
     "output_type": "stream",
     "text": [
      "images_reduced (8, 8)\n"
     ]
    }
   ],
   "source": [
    "pca = PCA(n_components = N_COMP)\n",
    "pca.fit(images)\n",
    "\n",
    "plt.grid()\n",
    "plt.plot(np.cumsum(pca.explained_variance_ratio_ * 100))\n",
    "plt.xlabel('Number of components')\n",
    "plt.ylabel('Explained variance')\n",
    "plt.show()\n",
    "\n",
    "images_reduced = pca.transform(images)\n",
    "# test_images_reduced = pca.transform(test_images)\n",
    "print(\"images_reduced\", images_reduced.shape)"
   ],
   "metadata": {
    "collapsed": false,
    "pycharm": {
     "name": "#%%\n"
    }
   }
  },
  {
   "cell_type": "markdown",
   "source": [
    "### KPCA (Kernel Principal component analysis)"
   ],
   "metadata": {
    "collapsed": false,
    "pycharm": {
     "name": "#%% md\n"
    }
   }
  },
  {
   "cell_type": "code",
   "execution_count": 62,
   "outputs": [
    {
     "name": "stdout",
     "output_type": "stream",
     "text": [
      "images_reduced (8, 8)\n"
     ]
    }
   ],
   "source": [
    "kernel_pca = KernelPCA(n_components=N_COMP, kernel='linear')\n",
    "kernel_pca.fit(images)\n",
    "\n",
    "images_reduced = kernel_pca.transform(images)\n",
    "print(\"images_reduced\", images_reduced.shape)"
   ],
   "metadata": {
    "collapsed": false,
    "pycharm": {
     "name": "#%%\n"
    }
   }
  },
  {
   "cell_type": "code",
   "execution_count": 63,
   "outputs": [],
   "source": [
    "### SparsePCA (Sparse Principal Components Analysis)"
   ],
   "metadata": {
    "collapsed": false,
    "pycharm": {
     "name": "#%%\n"
    }
   }
  },
  {
   "cell_type": "code",
   "execution_count": 87,
   "outputs": [
    {
     "ename": "KeyboardInterrupt",
     "evalue": "",
     "output_type": "error",
     "traceback": [
      "\u001B[1;31m---------------------------------------------------------------------------\u001B[0m",
      "\u001B[1;31mKeyboardInterrupt\u001B[0m                         Traceback (most recent call last)",
      "Cell \u001B[1;32mIn [87], line 2\u001B[0m\n\u001B[0;32m      1\u001B[0m sparse_pca \u001B[38;5;241m=\u001B[39m SparsePCA(n_components\u001B[38;5;241m=\u001B[39mN_COMP, max_iter \u001B[38;5;241m=\u001B[39m \u001B[38;5;241m7\u001B[39m)\n\u001B[1;32m----> 2\u001B[0m \u001B[43msparse_pca\u001B[49m\u001B[38;5;241;43m.\u001B[39;49m\u001B[43mfit\u001B[49m\u001B[43m(\u001B[49m\u001B[43mimages\u001B[49m\u001B[43m)\u001B[49m\n\u001B[0;32m      4\u001B[0m images_reduced \u001B[38;5;241m=\u001B[39m sparse_pca\u001B[38;5;241m.\u001B[39mtransform(images)\n\u001B[0;32m      5\u001B[0m \u001B[38;5;28mprint\u001B[39m(\u001B[38;5;124m\"\u001B[39m\u001B[38;5;124mimages_reduced\u001B[39m\u001B[38;5;124m\"\u001B[39m, images_reduced\u001B[38;5;241m.\u001B[39mshape)\n",
      "File \u001B[1;32md:\\magist\\projekty\\analizaobrazow\\lib\\site-packages\\sklearn\\decomposition\\_sparse_pca.py:186\u001B[0m, in \u001B[0;36mSparsePCA.fit\u001B[1;34m(self, X, y)\u001B[0m\n\u001B[0;32m    184\u001B[0m code_init \u001B[38;5;241m=\u001B[39m \u001B[38;5;28mself\u001B[39m\u001B[38;5;241m.\u001B[39mV_init\u001B[38;5;241m.\u001B[39mT \u001B[38;5;28;01mif\u001B[39;00m \u001B[38;5;28mself\u001B[39m\u001B[38;5;241m.\u001B[39mV_init \u001B[38;5;129;01mis\u001B[39;00m \u001B[38;5;129;01mnot\u001B[39;00m \u001B[38;5;28;01mNone\u001B[39;00m \u001B[38;5;28;01melse\u001B[39;00m \u001B[38;5;28;01mNone\u001B[39;00m\n\u001B[0;32m    185\u001B[0m dict_init \u001B[38;5;241m=\u001B[39m \u001B[38;5;28mself\u001B[39m\u001B[38;5;241m.\u001B[39mU_init\u001B[38;5;241m.\u001B[39mT \u001B[38;5;28;01mif\u001B[39;00m \u001B[38;5;28mself\u001B[39m\u001B[38;5;241m.\u001B[39mU_init \u001B[38;5;129;01mis\u001B[39;00m \u001B[38;5;129;01mnot\u001B[39;00m \u001B[38;5;28;01mNone\u001B[39;00m \u001B[38;5;28;01melse\u001B[39;00m \u001B[38;5;28;01mNone\u001B[39;00m\n\u001B[1;32m--> 186\u001B[0m Vt, _, E, \u001B[38;5;28mself\u001B[39m\u001B[38;5;241m.\u001B[39mn_iter_ \u001B[38;5;241m=\u001B[39m \u001B[43mdict_learning\u001B[49m\u001B[43m(\u001B[49m\n\u001B[0;32m    187\u001B[0m \u001B[43m    \u001B[49m\u001B[43mX\u001B[49m\u001B[38;5;241;43m.\u001B[39;49m\u001B[43mT\u001B[49m\u001B[43m,\u001B[49m\n\u001B[0;32m    188\u001B[0m \u001B[43m    \u001B[49m\u001B[43mn_components\u001B[49m\u001B[43m,\u001B[49m\n\u001B[0;32m    189\u001B[0m \u001B[43m    \u001B[49m\u001B[43malpha\u001B[49m\u001B[38;5;241;43m=\u001B[39;49m\u001B[38;5;28;43mself\u001B[39;49m\u001B[38;5;241;43m.\u001B[39;49m\u001B[43malpha\u001B[49m\u001B[43m,\u001B[49m\n\u001B[0;32m    190\u001B[0m \u001B[43m    \u001B[49m\u001B[43mtol\u001B[49m\u001B[38;5;241;43m=\u001B[39;49m\u001B[38;5;28;43mself\u001B[39;49m\u001B[38;5;241;43m.\u001B[39;49m\u001B[43mtol\u001B[49m\u001B[43m,\u001B[49m\n\u001B[0;32m    191\u001B[0m \u001B[43m    \u001B[49m\u001B[43mmax_iter\u001B[49m\u001B[38;5;241;43m=\u001B[39;49m\u001B[38;5;28;43mself\u001B[39;49m\u001B[38;5;241;43m.\u001B[39;49m\u001B[43mmax_iter\u001B[49m\u001B[43m,\u001B[49m\n\u001B[0;32m    192\u001B[0m \u001B[43m    \u001B[49m\u001B[43mmethod\u001B[49m\u001B[38;5;241;43m=\u001B[39;49m\u001B[38;5;28;43mself\u001B[39;49m\u001B[38;5;241;43m.\u001B[39;49m\u001B[43mmethod\u001B[49m\u001B[43m,\u001B[49m\n\u001B[0;32m    193\u001B[0m \u001B[43m    \u001B[49m\u001B[43mn_jobs\u001B[49m\u001B[38;5;241;43m=\u001B[39;49m\u001B[38;5;28;43mself\u001B[39;49m\u001B[38;5;241;43m.\u001B[39;49m\u001B[43mn_jobs\u001B[49m\u001B[43m,\u001B[49m\n\u001B[0;32m    194\u001B[0m \u001B[43m    \u001B[49m\u001B[43mverbose\u001B[49m\u001B[38;5;241;43m=\u001B[39;49m\u001B[38;5;28;43mself\u001B[39;49m\u001B[38;5;241;43m.\u001B[39;49m\u001B[43mverbose\u001B[49m\u001B[43m,\u001B[49m\n\u001B[0;32m    195\u001B[0m \u001B[43m    \u001B[49m\u001B[43mrandom_state\u001B[49m\u001B[38;5;241;43m=\u001B[39;49m\u001B[43mrandom_state\u001B[49m\u001B[43m,\u001B[49m\n\u001B[0;32m    196\u001B[0m \u001B[43m    \u001B[49m\u001B[43mcode_init\u001B[49m\u001B[38;5;241;43m=\u001B[39;49m\u001B[43mcode_init\u001B[49m\u001B[43m,\u001B[49m\n\u001B[0;32m    197\u001B[0m \u001B[43m    \u001B[49m\u001B[43mdict_init\u001B[49m\u001B[38;5;241;43m=\u001B[39;49m\u001B[43mdict_init\u001B[49m\u001B[43m,\u001B[49m\n\u001B[0;32m    198\u001B[0m \u001B[43m    \u001B[49m\u001B[43mreturn_n_iter\u001B[49m\u001B[38;5;241;43m=\u001B[39;49m\u001B[38;5;28;43;01mTrue\u001B[39;49;00m\u001B[43m,\u001B[49m\n\u001B[0;32m    199\u001B[0m \u001B[43m\u001B[49m\u001B[43m)\u001B[49m\n\u001B[0;32m    200\u001B[0m \u001B[38;5;28mself\u001B[39m\u001B[38;5;241m.\u001B[39mcomponents_ \u001B[38;5;241m=\u001B[39m Vt\u001B[38;5;241m.\u001B[39mT\n\u001B[0;32m    201\u001B[0m components_norm \u001B[38;5;241m=\u001B[39m np\u001B[38;5;241m.\u001B[39mlinalg\u001B[38;5;241m.\u001B[39mnorm(\u001B[38;5;28mself\u001B[39m\u001B[38;5;241m.\u001B[39mcomponents_, axis\u001B[38;5;241m=\u001B[39m\u001B[38;5;241m1\u001B[39m)[:, np\u001B[38;5;241m.\u001B[39mnewaxis]\n",
      "File \u001B[1;32md:\\magist\\projekty\\analizaobrazow\\lib\\site-packages\\sklearn\\decomposition\\_dict_learning.py:678\u001B[0m, in \u001B[0;36mdict_learning\u001B[1;34m(X, n_components, alpha, max_iter, tol, method, n_jobs, dict_init, code_init, callback, verbose, random_state, return_n_iter, positive_dict, positive_code, method_max_iter)\u001B[0m\n\u001B[0;32m    672\u001B[0m     \u001B[38;5;28mprint\u001B[39m(\n\u001B[0;32m    673\u001B[0m         \u001B[38;5;124m\"\u001B[39m\u001B[38;5;124mIteration \u001B[39m\u001B[38;5;132;01m% 3i\u001B[39;00m\u001B[38;5;124m (elapsed time: \u001B[39m\u001B[38;5;132;01m% 3i\u001B[39;00m\u001B[38;5;124ms, \u001B[39m\u001B[38;5;132;01m% 4.1f\u001B[39;00m\u001B[38;5;124mmn, current cost \u001B[39m\u001B[38;5;132;01m% 7.3f\u001B[39;00m\u001B[38;5;124m)\u001B[39m\u001B[38;5;124m\"\u001B[39m\n\u001B[0;32m    674\u001B[0m         \u001B[38;5;241m%\u001B[39m (ii, dt, dt \u001B[38;5;241m/\u001B[39m \u001B[38;5;241m60\u001B[39m, current_cost)\n\u001B[0;32m    675\u001B[0m     )\n\u001B[0;32m    677\u001B[0m \u001B[38;5;66;03m# Update code\u001B[39;00m\n\u001B[1;32m--> 678\u001B[0m code \u001B[38;5;241m=\u001B[39m \u001B[43msparse_encode\u001B[49m\u001B[43m(\u001B[49m\n\u001B[0;32m    679\u001B[0m \u001B[43m    \u001B[49m\u001B[43mX\u001B[49m\u001B[43m,\u001B[49m\n\u001B[0;32m    680\u001B[0m \u001B[43m    \u001B[49m\u001B[43mdictionary\u001B[49m\u001B[43m,\u001B[49m\n\u001B[0;32m    681\u001B[0m \u001B[43m    \u001B[49m\u001B[43malgorithm\u001B[49m\u001B[38;5;241;43m=\u001B[39;49m\u001B[43mmethod\u001B[49m\u001B[43m,\u001B[49m\n\u001B[0;32m    682\u001B[0m \u001B[43m    \u001B[49m\u001B[43malpha\u001B[49m\u001B[38;5;241;43m=\u001B[39;49m\u001B[43malpha\u001B[49m\u001B[43m,\u001B[49m\n\u001B[0;32m    683\u001B[0m \u001B[43m    \u001B[49m\u001B[43minit\u001B[49m\u001B[38;5;241;43m=\u001B[39;49m\u001B[43mcode\u001B[49m\u001B[43m,\u001B[49m\n\u001B[0;32m    684\u001B[0m \u001B[43m    \u001B[49m\u001B[43mn_jobs\u001B[49m\u001B[38;5;241;43m=\u001B[39;49m\u001B[43mn_jobs\u001B[49m\u001B[43m,\u001B[49m\n\u001B[0;32m    685\u001B[0m \u001B[43m    \u001B[49m\u001B[43mpositive\u001B[49m\u001B[38;5;241;43m=\u001B[39;49m\u001B[43mpositive_code\u001B[49m\u001B[43m,\u001B[49m\n\u001B[0;32m    686\u001B[0m \u001B[43m    \u001B[49m\u001B[43mmax_iter\u001B[49m\u001B[38;5;241;43m=\u001B[39;49m\u001B[43mmethod_max_iter\u001B[49m\u001B[43m,\u001B[49m\n\u001B[0;32m    687\u001B[0m \u001B[43m    \u001B[49m\u001B[43mverbose\u001B[49m\u001B[38;5;241;43m=\u001B[39;49m\u001B[43mverbose\u001B[49m\u001B[43m,\u001B[49m\n\u001B[0;32m    688\u001B[0m \u001B[43m\u001B[49m\u001B[43m)\u001B[49m\n\u001B[0;32m    690\u001B[0m \u001B[38;5;66;03m# Update dictionary in place\u001B[39;00m\n\u001B[0;32m    691\u001B[0m _update_dict(\n\u001B[0;32m    692\u001B[0m     dictionary,\n\u001B[0;32m    693\u001B[0m     X,\n\u001B[1;32m   (...)\u001B[0m\n\u001B[0;32m    697\u001B[0m     positive\u001B[38;5;241m=\u001B[39mpositive_dict,\n\u001B[0;32m    698\u001B[0m )\n",
      "File \u001B[1;32md:\\magist\\projekty\\analizaobrazow\\lib\\site-packages\\sklearn\\decomposition\\_dict_learning.py:373\u001B[0m, in \u001B[0;36msparse_encode\u001B[1;34m(X, dictionary, gram, cov, algorithm, n_nonzero_coefs, alpha, copy_cov, init, max_iter, n_jobs, check_input, verbose, positive)\u001B[0m\n\u001B[0;32m    370\u001B[0m         regularization \u001B[38;5;241m=\u001B[39m \u001B[38;5;241m1.0\u001B[39m\n\u001B[0;32m    372\u001B[0m \u001B[38;5;28;01mif\u001B[39;00m effective_n_jobs(n_jobs) \u001B[38;5;241m==\u001B[39m \u001B[38;5;241m1\u001B[39m \u001B[38;5;129;01mor\u001B[39;00m algorithm \u001B[38;5;241m==\u001B[39m \u001B[38;5;124m\"\u001B[39m\u001B[38;5;124mthreshold\u001B[39m\u001B[38;5;124m\"\u001B[39m:\n\u001B[1;32m--> 373\u001B[0m     code \u001B[38;5;241m=\u001B[39m \u001B[43m_sparse_encode\u001B[49m\u001B[43m(\u001B[49m\n\u001B[0;32m    374\u001B[0m \u001B[43m        \u001B[49m\u001B[43mX\u001B[49m\u001B[43m,\u001B[49m\n\u001B[0;32m    375\u001B[0m \u001B[43m        \u001B[49m\u001B[43mdictionary\u001B[49m\u001B[43m,\u001B[49m\n\u001B[0;32m    376\u001B[0m \u001B[43m        \u001B[49m\u001B[43mgram\u001B[49m\u001B[43m,\u001B[49m\n\u001B[0;32m    377\u001B[0m \u001B[43m        \u001B[49m\u001B[43mcov\u001B[49m\u001B[38;5;241;43m=\u001B[39;49m\u001B[43mcov\u001B[49m\u001B[43m,\u001B[49m\n\u001B[0;32m    378\u001B[0m \u001B[43m        \u001B[49m\u001B[43malgorithm\u001B[49m\u001B[38;5;241;43m=\u001B[39;49m\u001B[43malgorithm\u001B[49m\u001B[43m,\u001B[49m\n\u001B[0;32m    379\u001B[0m \u001B[43m        \u001B[49m\u001B[43mregularization\u001B[49m\u001B[38;5;241;43m=\u001B[39;49m\u001B[43mregularization\u001B[49m\u001B[43m,\u001B[49m\n\u001B[0;32m    380\u001B[0m \u001B[43m        \u001B[49m\u001B[43mcopy_cov\u001B[49m\u001B[38;5;241;43m=\u001B[39;49m\u001B[43mcopy_cov\u001B[49m\u001B[43m,\u001B[49m\n\u001B[0;32m    381\u001B[0m \u001B[43m        \u001B[49m\u001B[43minit\u001B[49m\u001B[38;5;241;43m=\u001B[39;49m\u001B[43minit\u001B[49m\u001B[43m,\u001B[49m\n\u001B[0;32m    382\u001B[0m \u001B[43m        \u001B[49m\u001B[43mmax_iter\u001B[49m\u001B[38;5;241;43m=\u001B[39;49m\u001B[43mmax_iter\u001B[49m\u001B[43m,\u001B[49m\n\u001B[0;32m    383\u001B[0m \u001B[43m        \u001B[49m\u001B[43mcheck_input\u001B[49m\u001B[38;5;241;43m=\u001B[39;49m\u001B[38;5;28;43;01mFalse\u001B[39;49;00m\u001B[43m,\u001B[49m\n\u001B[0;32m    384\u001B[0m \u001B[43m        \u001B[49m\u001B[43mverbose\u001B[49m\u001B[38;5;241;43m=\u001B[39;49m\u001B[43mverbose\u001B[49m\u001B[43m,\u001B[49m\n\u001B[0;32m    385\u001B[0m \u001B[43m        \u001B[49m\u001B[43mpositive\u001B[49m\u001B[38;5;241;43m=\u001B[39;49m\u001B[43mpositive\u001B[49m\u001B[43m,\u001B[49m\n\u001B[0;32m    386\u001B[0m \u001B[43m    \u001B[49m\u001B[43m)\u001B[49m\n\u001B[0;32m    387\u001B[0m     \u001B[38;5;28;01mreturn\u001B[39;00m code\n\u001B[0;32m    389\u001B[0m \u001B[38;5;66;03m# Enter parallel code block\u001B[39;00m\n",
      "File \u001B[1;32md:\\magist\\projekty\\analizaobrazow\\lib\\site-packages\\sklearn\\decomposition\\_dict_learning.py:156\u001B[0m, in \u001B[0;36m_sparse_encode\u001B[1;34m(X, dictionary, gram, cov, algorithm, regularization, copy_cov, init, max_iter, check_input, verbose, positive)\u001B[0m\n\u001B[0;32m    144\u001B[0m     \u001B[38;5;66;03m# Not passing in verbose=max(0, verbose-1) because Lars.fit already\u001B[39;00m\n\u001B[0;32m    145\u001B[0m     \u001B[38;5;66;03m# corrects the verbosity level.\u001B[39;00m\n\u001B[0;32m    146\u001B[0m     lasso_lars \u001B[38;5;241m=\u001B[39m LassoLars(\n\u001B[0;32m    147\u001B[0m         alpha\u001B[38;5;241m=\u001B[39malpha,\n\u001B[0;32m    148\u001B[0m         fit_intercept\u001B[38;5;241m=\u001B[39m\u001B[38;5;28;01mFalse\u001B[39;00m,\n\u001B[1;32m   (...)\u001B[0m\n\u001B[0;32m    154\u001B[0m         max_iter\u001B[38;5;241m=\u001B[39mmax_iter,\n\u001B[0;32m    155\u001B[0m     )\n\u001B[1;32m--> 156\u001B[0m     \u001B[43mlasso_lars\u001B[49m\u001B[38;5;241;43m.\u001B[39;49m\u001B[43mfit\u001B[49m\u001B[43m(\u001B[49m\u001B[43mdictionary\u001B[49m\u001B[38;5;241;43m.\u001B[39;49m\u001B[43mT\u001B[49m\u001B[43m,\u001B[49m\u001B[43m \u001B[49m\u001B[43mX\u001B[49m\u001B[38;5;241;43m.\u001B[39;49m\u001B[43mT\u001B[49m\u001B[43m,\u001B[49m\u001B[43m \u001B[49m\u001B[43mXy\u001B[49m\u001B[38;5;241;43m=\u001B[39;49m\u001B[43mcov\u001B[49m\u001B[43m)\u001B[49m\n\u001B[0;32m    157\u001B[0m     new_code \u001B[38;5;241m=\u001B[39m lasso_lars\u001B[38;5;241m.\u001B[39mcoef_\n\u001B[0;32m    158\u001B[0m \u001B[38;5;28;01mfinally\u001B[39;00m:\n",
      "File \u001B[1;32md:\\magist\\projekty\\analizaobrazow\\lib\\site-packages\\sklearn\\linear_model\\_least_angle.py:1128\u001B[0m, in \u001B[0;36mLars.fit\u001B[1;34m(self, X, y, Xy)\u001B[0m\n\u001B[0;32m   1125\u001B[0m     noise \u001B[38;5;241m=\u001B[39m rng\u001B[38;5;241m.\u001B[39muniform(high\u001B[38;5;241m=\u001B[39m\u001B[38;5;28mself\u001B[39m\u001B[38;5;241m.\u001B[39mjitter, size\u001B[38;5;241m=\u001B[39m\u001B[38;5;28mlen\u001B[39m(y))\n\u001B[0;32m   1126\u001B[0m     y \u001B[38;5;241m=\u001B[39m y \u001B[38;5;241m+\u001B[39m noise\n\u001B[1;32m-> 1128\u001B[0m \u001B[38;5;28;43mself\u001B[39;49m\u001B[38;5;241;43m.\u001B[39;49m\u001B[43m_fit\u001B[49m\u001B[43m(\u001B[49m\n\u001B[0;32m   1129\u001B[0m \u001B[43m    \u001B[49m\u001B[43mX\u001B[49m\u001B[43m,\u001B[49m\n\u001B[0;32m   1130\u001B[0m \u001B[43m    \u001B[49m\u001B[43my\u001B[49m\u001B[43m,\u001B[49m\n\u001B[0;32m   1131\u001B[0m \u001B[43m    \u001B[49m\u001B[43mmax_iter\u001B[49m\u001B[38;5;241;43m=\u001B[39;49m\u001B[43mmax_iter\u001B[49m\u001B[43m,\u001B[49m\n\u001B[0;32m   1132\u001B[0m \u001B[43m    \u001B[49m\u001B[43malpha\u001B[49m\u001B[38;5;241;43m=\u001B[39;49m\u001B[43malpha\u001B[49m\u001B[43m,\u001B[49m\n\u001B[0;32m   1133\u001B[0m \u001B[43m    \u001B[49m\u001B[43mfit_path\u001B[49m\u001B[38;5;241;43m=\u001B[39;49m\u001B[38;5;28;43mself\u001B[39;49m\u001B[38;5;241;43m.\u001B[39;49m\u001B[43mfit_path\u001B[49m\u001B[43m,\u001B[49m\n\u001B[0;32m   1134\u001B[0m \u001B[43m    \u001B[49m\u001B[43mnormalize\u001B[49m\u001B[38;5;241;43m=\u001B[39;49m\u001B[43m_normalize\u001B[49m\u001B[43m,\u001B[49m\n\u001B[0;32m   1135\u001B[0m \u001B[43m    \u001B[49m\u001B[43mXy\u001B[49m\u001B[38;5;241;43m=\u001B[39;49m\u001B[43mXy\u001B[49m\u001B[43m,\u001B[49m\n\u001B[0;32m   1136\u001B[0m \u001B[43m\u001B[49m\u001B[43m)\u001B[49m\n\u001B[0;32m   1138\u001B[0m \u001B[38;5;28;01mreturn\u001B[39;00m \u001B[38;5;28mself\u001B[39m\n",
      "File \u001B[1;32md:\\magist\\projekty\\analizaobrazow\\lib\\site-packages\\sklearn\\linear_model\\_least_angle.py:1063\u001B[0m, in \u001B[0;36mLars._fit\u001B[1;34m(self, X, y, max_iter, alpha, fit_path, normalize, Xy)\u001B[0m\n\u001B[0;32m   1061\u001B[0m \u001B[38;5;28;01mfor\u001B[39;00m k \u001B[38;5;129;01min\u001B[39;00m \u001B[38;5;28mrange\u001B[39m(n_targets):\n\u001B[0;32m   1062\u001B[0m     this_Xy \u001B[38;5;241m=\u001B[39m \u001B[38;5;28;01mNone\u001B[39;00m \u001B[38;5;28;01mif\u001B[39;00m Xy \u001B[38;5;129;01mis\u001B[39;00m \u001B[38;5;28;01mNone\u001B[39;00m \u001B[38;5;28;01melse\u001B[39;00m Xy[:, k]\n\u001B[1;32m-> 1063\u001B[0m     alphas, _, \u001B[38;5;28mself\u001B[39m\u001B[38;5;241m.\u001B[39mcoef_[k], n_iter_ \u001B[38;5;241m=\u001B[39m \u001B[43mlars_path\u001B[49m\u001B[43m(\u001B[49m\n\u001B[0;32m   1064\u001B[0m \u001B[43m        \u001B[49m\u001B[43mX\u001B[49m\u001B[43m,\u001B[49m\n\u001B[0;32m   1065\u001B[0m \u001B[43m        \u001B[49m\u001B[43my\u001B[49m\u001B[43m[\u001B[49m\u001B[43m:\u001B[49m\u001B[43m,\u001B[49m\u001B[43m \u001B[49m\u001B[43mk\u001B[49m\u001B[43m]\u001B[49m\u001B[43m,\u001B[49m\n\u001B[0;32m   1066\u001B[0m \u001B[43m        \u001B[49m\u001B[43mGram\u001B[49m\u001B[38;5;241;43m=\u001B[39;49m\u001B[43mGram\u001B[49m\u001B[43m,\u001B[49m\n\u001B[0;32m   1067\u001B[0m \u001B[43m        \u001B[49m\u001B[43mXy\u001B[49m\u001B[38;5;241;43m=\u001B[39;49m\u001B[43mthis_Xy\u001B[49m\u001B[43m,\u001B[49m\n\u001B[0;32m   1068\u001B[0m \u001B[43m        \u001B[49m\u001B[43mcopy_X\u001B[49m\u001B[38;5;241;43m=\u001B[39;49m\u001B[38;5;28;43mself\u001B[39;49m\u001B[38;5;241;43m.\u001B[39;49m\u001B[43mcopy_X\u001B[49m\u001B[43m,\u001B[49m\n\u001B[0;32m   1069\u001B[0m \u001B[43m        \u001B[49m\u001B[43mcopy_Gram\u001B[49m\u001B[38;5;241;43m=\u001B[39;49m\u001B[38;5;28;43;01mTrue\u001B[39;49;00m\u001B[43m,\u001B[49m\n\u001B[0;32m   1070\u001B[0m \u001B[43m        \u001B[49m\u001B[43malpha_min\u001B[49m\u001B[38;5;241;43m=\u001B[39;49m\u001B[43malpha\u001B[49m\u001B[43m,\u001B[49m\n\u001B[0;32m   1071\u001B[0m \u001B[43m        \u001B[49m\u001B[43mmethod\u001B[49m\u001B[38;5;241;43m=\u001B[39;49m\u001B[38;5;28;43mself\u001B[39;49m\u001B[38;5;241;43m.\u001B[39;49m\u001B[43mmethod\u001B[49m\u001B[43m,\u001B[49m\n\u001B[0;32m   1072\u001B[0m \u001B[43m        \u001B[49m\u001B[43mverbose\u001B[49m\u001B[38;5;241;43m=\u001B[39;49m\u001B[38;5;28;43mmax\u001B[39;49m\u001B[43m(\u001B[49m\u001B[38;5;241;43m0\u001B[39;49m\u001B[43m,\u001B[49m\u001B[43m \u001B[49m\u001B[38;5;28;43mself\u001B[39;49m\u001B[38;5;241;43m.\u001B[39;49m\u001B[43mverbose\u001B[49m\u001B[43m \u001B[49m\u001B[38;5;241;43m-\u001B[39;49m\u001B[43m \u001B[49m\u001B[38;5;241;43m1\u001B[39;49m\u001B[43m)\u001B[49m\u001B[43m,\u001B[49m\n\u001B[0;32m   1073\u001B[0m \u001B[43m        \u001B[49m\u001B[43mmax_iter\u001B[49m\u001B[38;5;241;43m=\u001B[39;49m\u001B[43mmax_iter\u001B[49m\u001B[43m,\u001B[49m\n\u001B[0;32m   1074\u001B[0m \u001B[43m        \u001B[49m\u001B[43meps\u001B[49m\u001B[38;5;241;43m=\u001B[39;49m\u001B[38;5;28;43mself\u001B[39;49m\u001B[38;5;241;43m.\u001B[39;49m\u001B[43meps\u001B[49m\u001B[43m,\u001B[49m\n\u001B[0;32m   1075\u001B[0m \u001B[43m        \u001B[49m\u001B[43mreturn_path\u001B[49m\u001B[38;5;241;43m=\u001B[39;49m\u001B[38;5;28;43;01mFalse\u001B[39;49;00m\u001B[43m,\u001B[49m\n\u001B[0;32m   1076\u001B[0m \u001B[43m        \u001B[49m\u001B[43mreturn_n_iter\u001B[49m\u001B[38;5;241;43m=\u001B[39;49m\u001B[38;5;28;43;01mTrue\u001B[39;49;00m\u001B[43m,\u001B[49m\n\u001B[0;32m   1077\u001B[0m \u001B[43m        \u001B[49m\u001B[43mpositive\u001B[49m\u001B[38;5;241;43m=\u001B[39;49m\u001B[38;5;28;43mself\u001B[39;49m\u001B[38;5;241;43m.\u001B[39;49m\u001B[43mpositive\u001B[49m\u001B[43m,\u001B[49m\n\u001B[0;32m   1078\u001B[0m \u001B[43m    \u001B[49m\u001B[43m)\u001B[49m\n\u001B[0;32m   1079\u001B[0m     \u001B[38;5;28mself\u001B[39m\u001B[38;5;241m.\u001B[39malphas_\u001B[38;5;241m.\u001B[39mappend(alphas)\n\u001B[0;32m   1080\u001B[0m     \u001B[38;5;28mself\u001B[39m\u001B[38;5;241m.\u001B[39mn_iter_\u001B[38;5;241m.\u001B[39mappend(n_iter_)\n",
      "File \u001B[1;32md:\\magist\\projekty\\analizaobrazow\\lib\\site-packages\\sklearn\\linear_model\\_least_angle.py:169\u001B[0m, in \u001B[0;36mlars_path\u001B[1;34m(X, y, Xy, Gram, max_iter, alpha_min, method, copy_X, eps, copy_Gram, verbose, return_path, return_n_iter, positive)\u001B[0m\n\u001B[0;32m    164\u001B[0m \u001B[38;5;28;01mif\u001B[39;00m X \u001B[38;5;129;01mis\u001B[39;00m \u001B[38;5;28;01mNone\u001B[39;00m \u001B[38;5;129;01mand\u001B[39;00m Gram \u001B[38;5;129;01mis\u001B[39;00m \u001B[38;5;129;01mnot\u001B[39;00m \u001B[38;5;28;01mNone\u001B[39;00m:\n\u001B[0;32m    165\u001B[0m     \u001B[38;5;28;01mraise\u001B[39;00m \u001B[38;5;167;01mValueError\u001B[39;00m(\n\u001B[0;32m    166\u001B[0m         \u001B[38;5;124m\"\u001B[39m\u001B[38;5;124mX cannot be None if Gram is not None\u001B[39m\u001B[38;5;124m\"\u001B[39m\n\u001B[0;32m    167\u001B[0m         \u001B[38;5;124m\"\u001B[39m\u001B[38;5;124mUse lars_path_gram to avoid passing X and y.\u001B[39m\u001B[38;5;124m\"\u001B[39m\n\u001B[0;32m    168\u001B[0m     )\n\u001B[1;32m--> 169\u001B[0m \u001B[38;5;28;01mreturn\u001B[39;00m \u001B[43m_lars_path_solver\u001B[49m\u001B[43m(\u001B[49m\n\u001B[0;32m    170\u001B[0m \u001B[43m    \u001B[49m\u001B[43mX\u001B[49m\u001B[38;5;241;43m=\u001B[39;49m\u001B[43mX\u001B[49m\u001B[43m,\u001B[49m\n\u001B[0;32m    171\u001B[0m \u001B[43m    \u001B[49m\u001B[43my\u001B[49m\u001B[38;5;241;43m=\u001B[39;49m\u001B[43my\u001B[49m\u001B[43m,\u001B[49m\n\u001B[0;32m    172\u001B[0m \u001B[43m    \u001B[49m\u001B[43mXy\u001B[49m\u001B[38;5;241;43m=\u001B[39;49m\u001B[43mXy\u001B[49m\u001B[43m,\u001B[49m\n\u001B[0;32m    173\u001B[0m \u001B[43m    \u001B[49m\u001B[43mGram\u001B[49m\u001B[38;5;241;43m=\u001B[39;49m\u001B[43mGram\u001B[49m\u001B[43m,\u001B[49m\n\u001B[0;32m    174\u001B[0m \u001B[43m    \u001B[49m\u001B[43mn_samples\u001B[49m\u001B[38;5;241;43m=\u001B[39;49m\u001B[38;5;28;43;01mNone\u001B[39;49;00m\u001B[43m,\u001B[49m\n\u001B[0;32m    175\u001B[0m \u001B[43m    \u001B[49m\u001B[43mmax_iter\u001B[49m\u001B[38;5;241;43m=\u001B[39;49m\u001B[43mmax_iter\u001B[49m\u001B[43m,\u001B[49m\n\u001B[0;32m    176\u001B[0m \u001B[43m    \u001B[49m\u001B[43malpha_min\u001B[49m\u001B[38;5;241;43m=\u001B[39;49m\u001B[43malpha_min\u001B[49m\u001B[43m,\u001B[49m\n\u001B[0;32m    177\u001B[0m \u001B[43m    \u001B[49m\u001B[43mmethod\u001B[49m\u001B[38;5;241;43m=\u001B[39;49m\u001B[43mmethod\u001B[49m\u001B[43m,\u001B[49m\n\u001B[0;32m    178\u001B[0m \u001B[43m    \u001B[49m\u001B[43mcopy_X\u001B[49m\u001B[38;5;241;43m=\u001B[39;49m\u001B[43mcopy_X\u001B[49m\u001B[43m,\u001B[49m\n\u001B[0;32m    179\u001B[0m \u001B[43m    \u001B[49m\u001B[43meps\u001B[49m\u001B[38;5;241;43m=\u001B[39;49m\u001B[43meps\u001B[49m\u001B[43m,\u001B[49m\n\u001B[0;32m    180\u001B[0m \u001B[43m    \u001B[49m\u001B[43mcopy_Gram\u001B[49m\u001B[38;5;241;43m=\u001B[39;49m\u001B[43mcopy_Gram\u001B[49m\u001B[43m,\u001B[49m\n\u001B[0;32m    181\u001B[0m \u001B[43m    \u001B[49m\u001B[43mverbose\u001B[49m\u001B[38;5;241;43m=\u001B[39;49m\u001B[43mverbose\u001B[49m\u001B[43m,\u001B[49m\n\u001B[0;32m    182\u001B[0m \u001B[43m    \u001B[49m\u001B[43mreturn_path\u001B[49m\u001B[38;5;241;43m=\u001B[39;49m\u001B[43mreturn_path\u001B[49m\u001B[43m,\u001B[49m\n\u001B[0;32m    183\u001B[0m \u001B[43m    \u001B[49m\u001B[43mreturn_n_iter\u001B[49m\u001B[38;5;241;43m=\u001B[39;49m\u001B[43mreturn_n_iter\u001B[49m\u001B[43m,\u001B[49m\n\u001B[0;32m    184\u001B[0m \u001B[43m    \u001B[49m\u001B[43mpositive\u001B[49m\u001B[38;5;241;43m=\u001B[39;49m\u001B[43mpositive\u001B[49m\u001B[43m,\u001B[49m\n\u001B[0;32m    185\u001B[0m \u001B[43m\u001B[49m\u001B[43m)\u001B[49m\n",
      "File \u001B[1;32md:\\magist\\projekty\\analizaobrazow\\lib\\site-packages\\sklearn\\linear_model\\_least_angle.py:635\u001B[0m, in \u001B[0;36m_lars_path_solver\u001B[1;34m(X, y, Xy, Gram, n_samples, max_iter, alpha_min, method, copy_X, eps, copy_Gram, verbose, return_path, return_n_iter, positive)\u001B[0m\n\u001B[0;32m    625\u001B[0m \u001B[38;5;28;01mif\u001B[39;00m n_active:\n\u001B[0;32m    626\u001B[0m     linalg\u001B[38;5;241m.\u001B[39msolve_triangular(\n\u001B[0;32m    627\u001B[0m         L[:n_active, :n_active],\n\u001B[0;32m    628\u001B[0m         L[n_active, :n_active],\n\u001B[1;32m   (...)\u001B[0m\n\u001B[0;32m    632\u001B[0m         \u001B[38;5;241m*\u001B[39m\u001B[38;5;241m*\u001B[39mSOLVE_TRIANGULAR_ARGS,\n\u001B[0;32m    633\u001B[0m     )\n\u001B[1;32m--> 635\u001B[0m v \u001B[38;5;241m=\u001B[39m \u001B[43mnp\u001B[49m\u001B[38;5;241;43m.\u001B[39;49m\u001B[43mdot\u001B[49m\u001B[43m(\u001B[49m\u001B[43mL\u001B[49m\u001B[43m[\u001B[49m\u001B[43mn_active\u001B[49m\u001B[43m,\u001B[49m\u001B[43m \u001B[49m\u001B[43m:\u001B[49m\u001B[43mn_active\u001B[49m\u001B[43m]\u001B[49m\u001B[43m,\u001B[49m\u001B[43m \u001B[49m\u001B[43mL\u001B[49m\u001B[43m[\u001B[49m\u001B[43mn_active\u001B[49m\u001B[43m,\u001B[49m\u001B[43m \u001B[49m\u001B[43m:\u001B[49m\u001B[43mn_active\u001B[49m\u001B[43m]\u001B[49m\u001B[43m)\u001B[49m\n\u001B[0;32m    636\u001B[0m diag \u001B[38;5;241m=\u001B[39m \u001B[38;5;28mmax\u001B[39m(np\u001B[38;5;241m.\u001B[39msqrt(np\u001B[38;5;241m.\u001B[39mabs(c \u001B[38;5;241m-\u001B[39m v)), eps)\n\u001B[0;32m    637\u001B[0m L[n_active, n_active] \u001B[38;5;241m=\u001B[39m diag\n",
      "File \u001B[1;32m<__array_function__ internals>:180\u001B[0m, in \u001B[0;36mdot\u001B[1;34m(*args, **kwargs)\u001B[0m\n",
      "\u001B[1;31mKeyboardInterrupt\u001B[0m: "
     ]
    }
   ],
   "source": [
    "sparse_pca = SparsePCA(n_components=N_COMP, max_iter = 7)\n",
    "sparse_pca.fit(images)\n",
    "\n",
    "images_reduced = sparse_pca.transform(images)\n",
    "print(\"images_reduced\", images_reduced.shape)"
   ],
   "metadata": {
    "collapsed": false,
    "pycharm": {
     "name": "#%%\n"
    }
   }
  },
  {
   "cell_type": "markdown",
   "source": [
    "### FastICA (a fast algorithm for Independent Component Analysis)"
   ],
   "metadata": {
    "collapsed": false,
    "pycharm": {
     "name": "#%% md\n"
    }
   }
  },
  {
   "cell_type": "code",
   "execution_count": 65,
   "outputs": [
    {
     "name": "stderr",
     "output_type": "stream",
     "text": [
      "d:\\magist\\projekty\\analizaobrazow\\lib\\site-packages\\sklearn\\decomposition\\_fastica.py:120: ConvergenceWarning: FastICA did not converge. Consider increasing tolerance or the maximum number of iterations.\n",
      "  warnings.warn(\n"
     ]
    },
    {
     "name": "stdout",
     "output_type": "stream",
     "text": [
      "images_reduced (8, 8)\n"
     ]
    }
   ],
   "source": [
    "fast_ica = FastICA(n_components=N_COMP, random_state=0, whiten='unit-variance')\n",
    "fast_ica.fit(images)\n",
    "\n",
    "images_reduced = fast_ica.transform(images)\n",
    "print(\"images_reduced\", images_reduced.shape)"
   ],
   "metadata": {
    "collapsed": false,
    "pycharm": {
     "name": "#%%\n"
    }
   }
  },
  {
   "cell_type": "markdown",
   "source": [
    "### NMF (Non-Negative Matrix Factorization)"
   ],
   "metadata": {
    "collapsed": false,
    "pycharm": {
     "name": "#%% md\n"
    }
   }
  },
  {
   "cell_type": "code",
   "execution_count": 86,
   "outputs": [
    {
     "name": "stderr",
     "output_type": "stream",
     "text": [
      "d:\\magist\\projekty\\analizaobrazow\\lib\\site-packages\\sklearn\\decomposition\\_nmf.py:1692: ConvergenceWarning: Maximum number of iterations 20 reached. Increase it to improve convergence.\n",
      "  warnings.warn(\n"
     ]
    },
    {
     "name": "stdout",
     "output_type": "stream",
     "text": [
      "images_reduced (8, 8)\n"
     ]
    },
    {
     "name": "stderr",
     "output_type": "stream",
     "text": [
      "d:\\magist\\projekty\\analizaobrazow\\lib\\site-packages\\sklearn\\decomposition\\_nmf.py:1692: ConvergenceWarning: Maximum number of iterations 20 reached. Increase it to improve convergence.\n",
      "  warnings.warn(\n"
     ]
    }
   ],
   "source": [
    "nmf = NMF(n_components=N_COMP, init='random', random_state=0, max_iter = 20)\n",
    "nmf.fit(images)\n",
    "\n",
    "images_reduced = nmf.transform(images)\n",
    "print(\"images_reduced\", images_reduced.shape)"
   ],
   "metadata": {
    "collapsed": false,
    "pycharm": {
     "name": "#%%\n"
    }
   }
  },
  {
   "cell_type": "markdown",
   "source": [
    "### Isomap Embedding"
   ],
   "metadata": {
    "collapsed": false,
    "pycharm": {
     "name": "#%% md\n"
    }
   }
  },
  {
   "cell_type": "code",
   "execution_count": 73,
   "outputs": [
    {
     "ename": "ValueError",
     "evalue": "There are significant negative eigenvalues (0.382201 of the maximum positive). Either the matrix is not PSD, or there was an issue while computing the eigendecomposition of the matrix.",
     "output_type": "error",
     "traceback": [
      "\u001B[1;31m---------------------------------------------------------------------------\u001B[0m",
      "\u001B[1;31mValueError\u001B[0m                                Traceback (most recent call last)",
      "Cell \u001B[1;32mIn [73], line 3\u001B[0m\n\u001B[0;32m      1\u001B[0m isomap \u001B[38;5;241m=\u001B[39m Isomap(n_components\u001B[38;5;241m=\u001B[39mN_COMP)\n\u001B[1;32m----> 3\u001B[0m images_reduced \u001B[38;5;241m=\u001B[39m \u001B[43misomap\u001B[49m\u001B[38;5;241;43m.\u001B[39;49m\u001B[43mfit_transform\u001B[49m\u001B[43m(\u001B[49m\u001B[43mimages\u001B[49m\u001B[43m)\u001B[49m\n\u001B[0;32m      4\u001B[0m \u001B[38;5;28mprint\u001B[39m(\u001B[38;5;124m\"\u001B[39m\u001B[38;5;124mimages_reduced\u001B[39m\u001B[38;5;124m\"\u001B[39m, images_reduced\u001B[38;5;241m.\u001B[39mshape)\n",
      "File \u001B[1;32md:\\magist\\projekty\\analizaobrazow\\lib\\site-packages\\sklearn\\manifold\\_isomap.py:348\u001B[0m, in \u001B[0;36mIsomap.fit_transform\u001B[1;34m(self, X, y)\u001B[0m\n\u001B[0;32m    331\u001B[0m \u001B[38;5;28;01mdef\u001B[39;00m \u001B[38;5;21mfit_transform\u001B[39m(\u001B[38;5;28mself\u001B[39m, X, y\u001B[38;5;241m=\u001B[39m\u001B[38;5;28;01mNone\u001B[39;00m):\n\u001B[0;32m    332\u001B[0m     \u001B[38;5;124;03m\"\"\"Fit the model from data in X and transform X.\u001B[39;00m\n\u001B[0;32m    333\u001B[0m \n\u001B[0;32m    334\u001B[0m \u001B[38;5;124;03m    Parameters\u001B[39;00m\n\u001B[1;32m   (...)\u001B[0m\n\u001B[0;32m    346\u001B[0m \u001B[38;5;124;03m        X transformed in the new space.\u001B[39;00m\n\u001B[0;32m    347\u001B[0m \u001B[38;5;124;03m    \"\"\"\u001B[39;00m\n\u001B[1;32m--> 348\u001B[0m     \u001B[38;5;28;43mself\u001B[39;49m\u001B[38;5;241;43m.\u001B[39;49m\u001B[43m_fit_transform\u001B[49m\u001B[43m(\u001B[49m\u001B[43mX\u001B[49m\u001B[43m)\u001B[49m\n\u001B[0;32m    349\u001B[0m     \u001B[38;5;28;01mreturn\u001B[39;00m \u001B[38;5;28mself\u001B[39m\u001B[38;5;241m.\u001B[39membedding_\n",
      "File \u001B[1;32md:\\magist\\projekty\\analizaobrazow\\lib\\site-packages\\sklearn\\manifold\\_isomap.py:282\u001B[0m, in \u001B[0;36mIsomap._fit_transform\u001B[1;34m(self, X)\u001B[0m\n\u001B[0;32m    279\u001B[0m G \u001B[38;5;241m=\u001B[39m \u001B[38;5;28mself\u001B[39m\u001B[38;5;241m.\u001B[39mdist_matrix_\u001B[38;5;241m*\u001B[39m\u001B[38;5;241m*\u001B[39m\u001B[38;5;241m2\u001B[39m\n\u001B[0;32m    280\u001B[0m G \u001B[38;5;241m*\u001B[39m\u001B[38;5;241m=\u001B[39m \u001B[38;5;241m-\u001B[39m\u001B[38;5;241m0.5\u001B[39m\n\u001B[1;32m--> 282\u001B[0m \u001B[38;5;28mself\u001B[39m\u001B[38;5;241m.\u001B[39membedding_ \u001B[38;5;241m=\u001B[39m \u001B[38;5;28;43mself\u001B[39;49m\u001B[38;5;241;43m.\u001B[39;49m\u001B[43mkernel_pca_\u001B[49m\u001B[38;5;241;43m.\u001B[39;49m\u001B[43mfit_transform\u001B[49m\u001B[43m(\u001B[49m\u001B[43mG\u001B[49m\u001B[43m)\u001B[49m\n\u001B[0;32m    283\u001B[0m \u001B[38;5;28mself\u001B[39m\u001B[38;5;241m.\u001B[39m_n_features_out \u001B[38;5;241m=\u001B[39m \u001B[38;5;28mself\u001B[39m\u001B[38;5;241m.\u001B[39membedding_\u001B[38;5;241m.\u001B[39mshape[\u001B[38;5;241m1\u001B[39m]\n",
      "File \u001B[1;32md:\\magist\\projekty\\analizaobrazow\\lib\\site-packages\\sklearn\\decomposition\\_kernel_pca.py:456\u001B[0m, in \u001B[0;36mKernelPCA.fit_transform\u001B[1;34m(self, X, y, **params)\u001B[0m\n\u001B[0;32m    435\u001B[0m \u001B[38;5;28;01mdef\u001B[39;00m \u001B[38;5;21mfit_transform\u001B[39m(\u001B[38;5;28mself\u001B[39m, X, y\u001B[38;5;241m=\u001B[39m\u001B[38;5;28;01mNone\u001B[39;00m, \u001B[38;5;241m*\u001B[39m\u001B[38;5;241m*\u001B[39mparams):\n\u001B[0;32m    436\u001B[0m     \u001B[38;5;124;03m\"\"\"Fit the model from data in X and transform X.\u001B[39;00m\n\u001B[0;32m    437\u001B[0m \n\u001B[0;32m    438\u001B[0m \u001B[38;5;124;03m    Parameters\u001B[39;00m\n\u001B[1;32m   (...)\u001B[0m\n\u001B[0;32m    454\u001B[0m \u001B[38;5;124;03m        Returns the instance itself.\u001B[39;00m\n\u001B[0;32m    455\u001B[0m \u001B[38;5;124;03m    \"\"\"\u001B[39;00m\n\u001B[1;32m--> 456\u001B[0m     \u001B[38;5;28mself\u001B[39m\u001B[38;5;241m.\u001B[39mfit(X, \u001B[38;5;241m*\u001B[39m\u001B[38;5;241m*\u001B[39mparams)\n\u001B[0;32m    458\u001B[0m     \u001B[38;5;66;03m# no need to use the kernel to transform X, use shortcut expression\u001B[39;00m\n\u001B[0;32m    459\u001B[0m     X_transformed \u001B[38;5;241m=\u001B[39m \u001B[38;5;28mself\u001B[39m\u001B[38;5;241m.\u001B[39meigenvectors_ \u001B[38;5;241m*\u001B[39m np\u001B[38;5;241m.\u001B[39msqrt(\u001B[38;5;28mself\u001B[39m\u001B[38;5;241m.\u001B[39meigenvalues_)\n",
      "File \u001B[1;32md:\\magist\\projekty\\analizaobrazow\\lib\\site-packages\\sklearn\\decomposition\\_kernel_pca.py:424\u001B[0m, in \u001B[0;36mKernelPCA.fit\u001B[1;34m(self, X, y)\u001B[0m\n\u001B[0;32m    422\u001B[0m \u001B[38;5;28mself\u001B[39m\u001B[38;5;241m.\u001B[39m_centerer \u001B[38;5;241m=\u001B[39m KernelCenterer()\n\u001B[0;32m    423\u001B[0m K \u001B[38;5;241m=\u001B[39m \u001B[38;5;28mself\u001B[39m\u001B[38;5;241m.\u001B[39m_get_kernel(X)\n\u001B[1;32m--> 424\u001B[0m \u001B[38;5;28;43mself\u001B[39;49m\u001B[38;5;241;43m.\u001B[39;49m\u001B[43m_fit_transform\u001B[49m\u001B[43m(\u001B[49m\u001B[43mK\u001B[49m\u001B[43m)\u001B[49m\n\u001B[0;32m    426\u001B[0m \u001B[38;5;28;01mif\u001B[39;00m \u001B[38;5;28mself\u001B[39m\u001B[38;5;241m.\u001B[39mfit_inverse_transform:\n\u001B[0;32m    427\u001B[0m     \u001B[38;5;66;03m# no need to use the kernel to transform X, use shortcut expression\u001B[39;00m\n\u001B[0;32m    428\u001B[0m     X_transformed \u001B[38;5;241m=\u001B[39m \u001B[38;5;28mself\u001B[39m\u001B[38;5;241m.\u001B[39meigenvectors_ \u001B[38;5;241m*\u001B[39m np\u001B[38;5;241m.\u001B[39msqrt(\u001B[38;5;28mself\u001B[39m\u001B[38;5;241m.\u001B[39meigenvalues_)\n",
      "File \u001B[1;32md:\\magist\\projekty\\analizaobrazow\\lib\\site-packages\\sklearn\\decomposition\\_kernel_pca.py:350\u001B[0m, in \u001B[0;36mKernelPCA._fit_transform\u001B[1;34m(self, K)\u001B[0m\n\u001B[0;32m    347\u001B[0m     \u001B[38;5;28;01mraise\u001B[39;00m \u001B[38;5;167;01mValueError\u001B[39;00m(\u001B[38;5;124m\"\u001B[39m\u001B[38;5;124mUnsupported value for `eigen_solver`: \u001B[39m\u001B[38;5;132;01m%r\u001B[39;00m\u001B[38;5;124m\"\u001B[39m \u001B[38;5;241m%\u001B[39m eigen_solver)\n\u001B[0;32m    349\u001B[0m \u001B[38;5;66;03m# make sure that the eigenvalues are ok and fix numerical issues\u001B[39;00m\n\u001B[1;32m--> 350\u001B[0m \u001B[38;5;28mself\u001B[39m\u001B[38;5;241m.\u001B[39meigenvalues_ \u001B[38;5;241m=\u001B[39m \u001B[43m_check_psd_eigenvalues\u001B[49m\u001B[43m(\u001B[49m\n\u001B[0;32m    351\u001B[0m \u001B[43m    \u001B[49m\u001B[38;5;28;43mself\u001B[39;49m\u001B[38;5;241;43m.\u001B[39;49m\u001B[43meigenvalues_\u001B[49m\u001B[43m,\u001B[49m\u001B[43m \u001B[49m\u001B[43menable_warnings\u001B[49m\u001B[38;5;241;43m=\u001B[39;49m\u001B[38;5;28;43;01mFalse\u001B[39;49;00m\n\u001B[0;32m    352\u001B[0m \u001B[43m\u001B[49m\u001B[43m)\u001B[49m\n\u001B[0;32m    354\u001B[0m \u001B[38;5;66;03m# flip eigenvectors' sign to enforce deterministic output\u001B[39;00m\n\u001B[0;32m    355\u001B[0m \u001B[38;5;28mself\u001B[39m\u001B[38;5;241m.\u001B[39meigenvectors_, _ \u001B[38;5;241m=\u001B[39m svd_flip(\n\u001B[0;32m    356\u001B[0m     \u001B[38;5;28mself\u001B[39m\u001B[38;5;241m.\u001B[39meigenvectors_, np\u001B[38;5;241m.\u001B[39mzeros_like(\u001B[38;5;28mself\u001B[39m\u001B[38;5;241m.\u001B[39meigenvectors_)\u001B[38;5;241m.\u001B[39mT\n\u001B[0;32m    357\u001B[0m )\n",
      "File \u001B[1;32md:\\magist\\projekty\\analizaobrazow\\lib\\site-packages\\sklearn\\utils\\validation.py:1635\u001B[0m, in \u001B[0;36m_check_psd_eigenvalues\u001B[1;34m(lambdas, enable_warnings)\u001B[0m\n\u001B[0;32m   1630\u001B[0m min_eig \u001B[38;5;241m=\u001B[39m lambdas\u001B[38;5;241m.\u001B[39mmin()\n\u001B[0;32m   1631\u001B[0m \u001B[38;5;28;01mif\u001B[39;00m (\n\u001B[0;32m   1632\u001B[0m     min_eig \u001B[38;5;241m<\u001B[39m \u001B[38;5;241m-\u001B[39msignificant_neg_ratio \u001B[38;5;241m*\u001B[39m max_eig\n\u001B[0;32m   1633\u001B[0m     \u001B[38;5;129;01mand\u001B[39;00m min_eig \u001B[38;5;241m<\u001B[39m \u001B[38;5;241m-\u001B[39msignificant_neg_value\n\u001B[0;32m   1634\u001B[0m ):\n\u001B[1;32m-> 1635\u001B[0m     \u001B[38;5;28;01mraise\u001B[39;00m \u001B[38;5;167;01mValueError\u001B[39;00m(\n\u001B[0;32m   1636\u001B[0m         \u001B[38;5;124m\"\u001B[39m\u001B[38;5;124mThere are significant negative eigenvalues (\u001B[39m\u001B[38;5;132;01m%g\u001B[39;00m\u001B[38;5;124m\"\u001B[39m\n\u001B[0;32m   1637\u001B[0m         \u001B[38;5;124m\"\u001B[39m\u001B[38;5;124m of the maximum positive). Either the matrix is \u001B[39m\u001B[38;5;124m\"\u001B[39m\n\u001B[0;32m   1638\u001B[0m         \u001B[38;5;124m\"\u001B[39m\u001B[38;5;124mnot PSD, or there was an issue while computing \u001B[39m\u001B[38;5;124m\"\u001B[39m\n\u001B[0;32m   1639\u001B[0m         \u001B[38;5;124m\"\u001B[39m\u001B[38;5;124mthe eigendecomposition of the matrix.\u001B[39m\u001B[38;5;124m\"\u001B[39m \u001B[38;5;241m%\u001B[39m (\u001B[38;5;241m-\u001B[39mmin_eig \u001B[38;5;241m/\u001B[39m max_eig)\n\u001B[0;32m   1640\u001B[0m     )\n\u001B[0;32m   1641\u001B[0m \u001B[38;5;28;01melif\u001B[39;00m min_eig \u001B[38;5;241m<\u001B[39m \u001B[38;5;241m0\u001B[39m:\n\u001B[0;32m   1642\u001B[0m     \u001B[38;5;66;03m# Remove all negative values and warn about it\u001B[39;00m\n\u001B[0;32m   1643\u001B[0m     \u001B[38;5;28;01mif\u001B[39;00m enable_warnings:\n",
      "\u001B[1;31mValueError\u001B[0m: There are significant negative eigenvalues (0.382201 of the maximum positive). Either the matrix is not PSD, or there was an issue while computing the eigendecomposition of the matrix."
     ]
    }
   ],
   "source": [
    "# need PSD file ???????????????????????\n",
    "isomap = Isomap(n_components=N_COMP)\n",
    "\n",
    "images_reduced = isomap.fit_transform(images)\n",
    "print(\"images_reduced\", images_reduced.shape)"
   ],
   "metadata": {
    "collapsed": false,
    "pycharm": {
     "name": "#%%\n"
    }
   }
  },
  {
   "cell_type": "markdown",
   "source": [
    "### MDS (Multidimensional scaling)"
   ],
   "metadata": {
    "collapsed": false,
    "pycharm": {
     "name": "#%% md\n"
    }
   }
  },
  {
   "cell_type": "code",
   "execution_count": 72,
   "outputs": [
    {
     "name": "stdout",
     "output_type": "stream",
     "text": [
      "images_reduced (8, 8)\n"
     ]
    }
   ],
   "source": [
    "mds = MDS(n_components=N_COMP)\n",
    "\n",
    "images_reduced = mds.fit_transform(images)\n",
    "print(\"images_reduced\", images_reduced.shape)"
   ],
   "metadata": {
    "collapsed": false,
    "pycharm": {
     "name": "#%%\n"
    }
   }
  },
  {
   "cell_type": "markdown",
   "source": [
    "### LLE (Locally Linear Embedding)"
   ],
   "metadata": {
    "collapsed": false,
    "pycharm": {
     "name": "#%% md\n"
    }
   }
  },
  {
   "cell_type": "code",
   "execution_count": 78,
   "outputs": [
    {
     "name": "stdout",
     "output_type": "stream",
     "text": [
      "images_reduced (8, 7)\n"
     ]
    }
   ],
   "source": [
    "lle = LocallyLinearEmbedding(n_components=N_COMP-1)\n",
    "lle.fit(images)\n",
    "\n",
    "images_reduced = lle.transform(images)\n",
    "print(\"images_reduced\", images_reduced.shape)"
   ],
   "metadata": {
    "collapsed": false,
    "pycharm": {
     "name": "#%%\n"
    }
   }
  },
  {
   "cell_type": "markdown",
   "source": [
    "### Laplacian (Spectral embedding for non-linear dimensionality reduction)"
   ],
   "metadata": {
    "collapsed": false,
    "pycharm": {
     "name": "#%% md\n"
    }
   }
  },
  {
   "cell_type": "code",
   "execution_count": 83,
   "outputs": [
    {
     "name": "stdout",
     "output_type": "stream",
     "text": [
      "images_reduced (8, 6)\n"
     ]
    },
    {
     "name": "stderr",
     "output_type": "stream",
     "text": [
      "d:\\magist\\projekty\\analizaobrazow\\lib\\site-packages\\sklearn\\manifold\\_spectral_embedding.py:259: UserWarning: Graph is not fully connected, spectral embedding may not work as expected.\n",
      "  warnings.warn(\n"
     ]
    }
   ],
   "source": [
    "## WHAAAT ?????????????????????????????????????????\n",
    "laplacian = SpectralEmbedding(n_components=6)\n",
    "\n",
    "images_reduced = laplacian.fit_transform(images)\n",
    "print(\"images_reduced\", images_reduced.shape)"
   ],
   "metadata": {
    "collapsed": false,
    "pycharm": {
     "name": "#%%\n"
    }
   }
  },
  {
   "cell_type": "code",
   "execution_count": null,
   "outputs": [],
   "source": [],
   "metadata": {
    "collapsed": false,
    "pycharm": {
     "name": "#%%\n"
    }
   }
  },
  {
   "cell_type": "code",
   "execution_count": null,
   "outputs": [],
   "source": [],
   "metadata": {
    "collapsed": false,
    "pycharm": {
     "name": "#%%\n"
    }
   }
  },
  {
   "cell_type": "code",
   "execution_count": null,
   "outputs": [],
   "source": [],
   "metadata": {
    "collapsed": false,
    "pycharm": {
     "name": "#%%\n"
    }
   }
  },
  {
   "cell_type": "code",
   "execution_count": null,
   "outputs": [],
   "source": [],
   "metadata": {
    "collapsed": false,
    "pycharm": {
     "name": "#%%\n"
    }
   }
  },
  {
   "cell_type": "code",
   "execution_count": null,
   "outputs": [],
   "source": [],
   "metadata": {
    "collapsed": false,
    "pycharm": {
     "name": "#%%\n"
    }
   }
  },
  {
   "cell_type": "code",
   "execution_count": null,
   "outputs": [],
   "source": [],
   "metadata": {
    "collapsed": false,
    "pycharm": {
     "name": "#%%\n"
    }
   }
  },
  {
   "cell_type": "code",
   "execution_count": null,
   "outputs": [],
   "source": [],
   "metadata": {
    "collapsed": false,
    "pycharm": {
     "name": "#%%\n"
    }
   }
  },
  {
   "cell_type": "code",
   "execution_count": null,
   "outputs": [],
   "source": [],
   "metadata": {
    "collapsed": false,
    "pycharm": {
     "name": "#%%\n"
    }
   }
  },
  {
   "cell_type": "code",
   "execution_count": null,
   "outputs": [],
   "source": [],
   "metadata": {
    "collapsed": false,
    "pycharm": {
     "name": "#%%\n"
    }
   }
  },
  {
   "cell_type": "code",
   "execution_count": null,
   "outputs": [],
   "source": [],
   "metadata": {
    "collapsed": false,
    "pycharm": {
     "name": "#%%\n"
    }
   }
  },
  {
   "cell_type": "code",
   "execution_count": null,
   "outputs": [],
   "source": [],
   "metadata": {
    "collapsed": false,
    "pycharm": {
     "name": "#%%\n"
    }
   }
  },
  {
   "cell_type": "code",
   "execution_count": null,
   "outputs": [],
   "source": [],
   "metadata": {
    "collapsed": false,
    "pycharm": {
     "name": "#%%\n"
    }
   }
  },
  {
   "cell_type": "code",
   "execution_count": null,
   "outputs": [],
   "source": [],
   "metadata": {
    "collapsed": false,
    "pycharm": {
     "name": "#%%\n"
    }
   }
  },
  {
   "cell_type": "code",
   "execution_count": 56,
   "outputs": [],
   "source": [],
   "metadata": {
    "collapsed": false,
    "pycharm": {
     "name": "#%%\n"
    }
   }
  },
  {
   "cell_type": "code",
   "execution_count": null,
   "outputs": [],
   "source": [],
   "metadata": {
    "collapsed": false,
    "pycharm": {
     "name": "#%%\n"
    }
   }
  },
  {
   "cell_type": "code",
   "execution_count": null,
   "outputs": [],
   "source": [],
   "metadata": {
    "collapsed": false,
    "pycharm": {
     "name": "#%%\n"
    }
   }
  },
  {
   "cell_type": "code",
   "execution_count": null,
   "outputs": [],
   "source": [],
   "metadata": {
    "collapsed": false,
    "pycharm": {
     "name": "#%%\n"
    }
   }
  },
  {
   "cell_type": "code",
   "execution_count": 42,
   "outputs": [],
   "source": [],
   "metadata": {
    "collapsed": false,
    "pycharm": {
     "name": "#%%\n"
    }
   }
  },
  {
   "cell_type": "code",
   "execution_count": null,
   "outputs": [],
   "source": [],
   "metadata": {
    "collapsed": false,
    "pycharm": {
     "name": "#%%\n"
    }
   }
  },
  {
   "cell_type": "code",
   "execution_count": null,
   "outputs": [],
   "source": [],
   "metadata": {
    "collapsed": false,
    "pycharm": {
     "name": "#%%\n"
    }
   }
  },
  {
   "cell_type": "code",
   "execution_count": null,
   "outputs": [],
   "source": [],
   "metadata": {
    "collapsed": false,
    "pycharm": {
     "name": "#%%\n"
    }
   }
  },
  {
   "cell_type": "code",
   "execution_count": null,
   "outputs": [],
   "source": [],
   "metadata": {
    "collapsed": false,
    "pycharm": {
     "name": "#%%\n"
    }
   }
  },
  {
   "cell_type": "code",
   "execution_count": null,
   "outputs": [],
   "source": [],
   "metadata": {
    "collapsed": false,
    "pycharm": {
     "name": "#%%\n"
    }
   }
  },
  {
   "cell_type": "code",
   "execution_count": null,
   "outputs": [],
   "source": [],
   "metadata": {
    "collapsed": false,
    "pycharm": {
     "name": "#%%\n"
    }
   }
  },
  {
   "cell_type": "code",
   "execution_count": null,
   "outputs": [],
   "source": [],
   "metadata": {
    "collapsed": false,
    "pycharm": {
     "name": "#%%\n"
    }
   }
  },
  {
   "cell_type": "code",
   "execution_count": null,
   "outputs": [],
   "source": [],
   "metadata": {
    "collapsed": false,
    "pycharm": {
     "name": "#%%\n"
    }
   }
  },
  {
   "cell_type": "code",
   "execution_count": null,
   "outputs": [],
   "source": [],
   "metadata": {
    "collapsed": false,
    "pycharm": {
     "name": "#%%\n"
    }
   }
  },
  {
   "cell_type": "code",
   "execution_count": null,
   "outputs": [],
   "source": [],
   "metadata": {
    "collapsed": false,
    "pycharm": {
     "name": "#%%\n"
    }
   }
  }
 ],
 "metadata": {
  "kernelspec": {
   "display_name": "Python 3",
   "language": "python",
   "name": "python3"
  },
  "language_info": {
   "codemirror_mode": {
    "name": "ipython",
    "version": 2
   },
   "file_extension": ".py",
   "mimetype": "text/x-python",
   "name": "python",
   "nbconvert_exporter": "python",
   "pygments_lexer": "ipython2",
   "version": "2.7.6"
  }
 },
 "nbformat": 4,
 "nbformat_minor": 0
}