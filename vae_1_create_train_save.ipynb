{
 "cells": [
  {
   "cell_type": "code",
   "execution_count": 65,
   "metadata": {
    "collapsed": true
   },
   "outputs": [],
   "source": [
    "input_spe = (32, 32, 1)\n",
    "latent_dim = 14  # how many features we are looking for\n",
    "\n",
    "PATH = 'D:/magist/semestr 2/UczNienadwz/UNN/1_sign_per_class_no_distortions_whole_book/1_sign_per_class_no_distortions_whole_book/dataset_1_sign_per_class_no_distortions_whole_book.npy'"
   ]
  },
  {
   "cell_type": "markdown",
   "source": [
    "# imports"
   ],
   "metadata": {
    "collapsed": false,
    "pycharm": {
     "name": "#%% md\n"
    }
   }
  },
  {
   "cell_type": "code",
   "execution_count": 66,
   "outputs": [],
   "source": [
    "import matplotlib.pyplot as plt\n",
    "import numpy as np\n",
    "import tensorflow as tf\n",
    "from keras.layers import Dense, Conv2D, Flatten, Reshape, Conv2DTranspose\n",
    "from tensorflow import keras\n",
    "from tensorflow.keras import layers"
   ],
   "metadata": {
    "collapsed": false,
    "pycharm": {
     "name": "#%%\n"
    }
   }
  },
  {
   "cell_type": "markdown",
   "source": [
    "# dataset"
   ],
   "metadata": {
    "collapsed": false,
    "pycharm": {
     "name": "#%% md\n"
    }
   }
  },
  {
   "cell_type": "code",
   "execution_count": 67,
   "outputs": [],
   "source": [
    "def delete_space(dataset):\n",
    "    # search for space\n",
    "    # plt.imshow(dataset[0])\n",
    "    # plt.show()\n",
    "\n",
    "    # delete it\n",
    "    space = dataset[0]\n",
    "    lst = []\n",
    "    for i in dataset:\n",
    "        if np.array_equal(space, i):\n",
    "            pass\n",
    "        else:\n",
    "            lst.append(i)\n",
    "\n",
    "    better_dataset = np.asarray(lst)\n",
    "\n",
    "    return better_dataset\n",
    "\n",
    "\n",
    "def read_dataset_no_spaces(path):\n",
    "    images = np.load(path)\n",
    "    print(\"images\", images.shape)\n",
    "\n",
    "    lacina, hiragana = images[:, 0, :, :], images[:, 1, :, :]\n",
    "    print(\"lacina\", lacina.shape)\n",
    "\n",
    "    lacina, hiragana = delete_space(lacina), delete_space(hiragana)\n",
    "    print(\"lacina\", lacina.shape, \"--no spaces\")\n",
    "\n",
    "    lacina, hiragana = np.expand_dims(lacina, -1).astype(\"float32\") / 255, np.expand_dims(hiragana, -1).astype(\"float32\") / 255\n",
    "    print(\"lacina\", lacina.shape, \"--good shape\")\n",
    "\n",
    "    return lacina, hiragana"
   ],
   "metadata": {
    "collapsed": false,
    "pycharm": {
     "name": "#%%\n"
    }
   }
  },
  {
   "cell_type": "markdown",
   "source": [
    "# Encoder + Decoder = VAE"
   ],
   "metadata": {
    "collapsed": false,
    "pycharm": {
     "name": "#%% md\n"
    }
   }
  },
  {
   "cell_type": "code",
   "execution_count": 68,
   "outputs": [],
   "source": [
    "class Sampling(layers.Layer):\n",
    "    \"\"\"Uses (z_mean, z_log_var) to sample z, the vector encoding a digit.\"\"\"\n",
    "\n",
    "    def call(self, inputs):\n",
    "        mean, log_var = inputs\n",
    "        epsilon = tf.keras.backend.random_normal(shape = tf.shape(mean), mean = 0., stddev = 1.)\n",
    "        return mean + tf.exp(log_var / 2) * epsilon\n",
    "\n",
    "\n",
    "class VAE(keras.Model):\n",
    "    def __init__(self, encoder, decoder, **kwargs):\n",
    "        super(VAE, self).__init__(**kwargs)\n",
    "        self.encoder = encoder\n",
    "        self.decoder = decoder\n",
    "        self.total_loss_tracker = keras.metrics.Mean(name = \"total_loss\")\n",
    "        self.reconstruction_loss_tracker = keras.metrics.Mean(name = \"reconstruction_loss\")\n",
    "        self.kl_loss_tracker = keras.metrics.Mean(name = \"kl_loss\")\n",
    "\n",
    "    @property\n",
    "    def metrics(self):\n",
    "        return [self.total_loss_tracker, self.reconstruction_loss_tracker, self.kl_loss_tracker, ]\n",
    "\n",
    "    def train_step(self, data):\n",
    "        with tf.GradientTape() as tape:\n",
    "            z_mean, z_log_var, z = self.encoder(data)\n",
    "            reconstruction = self.decoder(z)\n",
    "            reconstruction_loss = tf.reduce_mean(tf.reduce_sum(keras.losses.binary_crossentropy(data, reconstruction), axis = (1, 2)))\n",
    "            kl_loss = -0.5 * (1 + z_log_var - tf.square(z_mean) - tf.exp(z_log_var))\n",
    "            kl_loss = tf.reduce_mean(tf.reduce_sum(kl_loss, axis = 1))\n",
    "            total_loss = reconstruction_loss + kl_loss\n",
    "        grads = tape.gradient(total_loss, self.trainable_weights)\n",
    "        self.optimizer.apply_gradients(zip(grads, self.trainable_weights))\n",
    "        self.total_loss_tracker.update_state(total_loss)\n",
    "        self.reconstruction_loss_tracker.update_state(reconstruction_loss)\n",
    "        self.kl_loss_tracker.update_state(kl_loss)\n",
    "        return {\"loss\": self.total_loss_tracker.result(), \"reconstruction_loss\": self.reconstruction_loss_tracker.result(),\n",
    "                \"kl_loss\": self.kl_loss_tracker.result(), }\n",
    "\n",
    "\n",
    "def create_vae():\n",
    "    #encoder\n",
    "    encoder_inputs = keras.Input(shape = input_spe)\n",
    "    x = Conv2D(32, 3, activation = \"relu\", strides = 2, padding = \"same\")(encoder_inputs)\n",
    "    x = Conv2D(64, 3, activation = \"relu\", strides = 2, padding = \"same\")(x)\n",
    "    x = Conv2D(64, 3, activation = \"relu\", strides = 2, padding = \"same\")(x)\n",
    "    x = Flatten()(x)\n",
    "    x = Dense(300, activation = \"relu\")(x)\n",
    "    z_mean = Dense(latent_dim, name = \"z_mean\")(x)\n",
    "    z_log_var = Dense(latent_dim, name = \"z_log_var\")(x)\n",
    "    z = Sampling()([z_mean, z_log_var])\n",
    "    encoder = keras.Model(encoder_inputs, [z_mean, z_log_var, z], name = \"encoder\")\n",
    "    # encoder.summary()\n",
    "    # plot_model(encoder, show_shapes = True, dpi = 80)\n",
    "\n",
    "    #decoder\n",
    "    latent_inputs = keras.Input(shape = (latent_dim,))\n",
    "    x = Dense(4 * 4 * 64, activation = \"relu\")(latent_inputs)\n",
    "    x = Reshape((4, 4, 64))(x)\n",
    "    x = Conv2DTranspose(64, 3, activation = \"relu\", strides = 2, padding = \"same\")(x)\n",
    "    x = Conv2DTranspose(64, 3, activation = \"relu\", strides = 2, padding = \"same\")(x)\n",
    "    x = Conv2DTranspose(32, 3, activation = \"relu\", strides = 2, padding = \"same\")(x)\n",
    "    decoder_outputs = Conv2DTranspose(1, 3, activation = \"sigmoid\", padding = \"same\")(x)\n",
    "    decoder = keras.Model(latent_inputs, decoder_outputs, name = \"decoder\")\n",
    "    # decoder.summary()\n",
    "    # plot_model(decoder, show_shapes = True, dpi = 80)\n",
    "\n",
    "    # autoencoder\n",
    "    vae = VAE(encoder, decoder)\n",
    "    vae.compile(optimizer = keras.optimizers.Adam())\n",
    "\n",
    "    return vae\n",
    "\n",
    "\n",
    "def show_plots(history):\n",
    "    plt.figure(figsize = (15, 4))\n",
    "\n",
    "    plt.subplot(1, 3, 1)\n",
    "    plt.plot(history.history['loss'])\n",
    "    plt.title('loss')\n",
    "    plt.ylabel('loss')\n",
    "    plt.xlabel('Epoch')\n",
    "\n",
    "    plt.subplot(1, 3, 2)\n",
    "    plt.plot(history.history['reconstruction_loss'])\n",
    "    plt.title('reconstruction_loss')\n",
    "    plt.ylabel('reconstruction_loss')\n",
    "    plt.xlabel('Epoch')\n",
    "\n",
    "    plt.subplot(1, 3, 3)\n",
    "    plt.plot(history.history['kl_loss'])\n",
    "    plt.title('kl_loss')\n",
    "    plt.ylabel('kl_loss')\n",
    "    plt.xlabel('Epoch')\n",
    "\n",
    "\n",
    "def save_autoencoder(autoencoder, encoder_file_name, decoder_file_name):\n",
    "    autoencoder.encoder.save(encoder_file_name)\n",
    "    autoencoder.decoder.save(decoder_file_name)\n",
    "    print('saved')"
   ],
   "metadata": {
    "collapsed": false,
    "pycharm": {
     "name": "#%%\n"
    }
   }
  },
  {
   "cell_type": "code",
   "execution_count": 68,
   "outputs": [],
   "source": [],
   "metadata": {
    "collapsed": false,
    "pycharm": {
     "name": "#%%\n"
    }
   }
  },
  {
   "cell_type": "code",
   "execution_count": 68,
   "outputs": [],
   "source": [],
   "metadata": {
    "collapsed": false,
    "pycharm": {
     "name": "#%%\n"
    }
   }
  },
  {
   "cell_type": "code",
   "execution_count": null,
   "outputs": [],
   "source": [],
   "metadata": {
    "collapsed": false,
    "pycharm": {
     "name": "#%%\n"
    }
   }
  },
  {
   "cell_type": "markdown",
   "source": [
    "## dataset"
   ],
   "metadata": {
    "collapsed": false,
    "pycharm": {
     "name": "#%% md\n"
    }
   }
  },
  {
   "cell_type": "code",
   "execution_count": 69,
   "outputs": [
    {
     "name": "stdout",
     "output_type": "stream",
     "text": [
      "images (310080, 2, 32, 32)\n",
      "lacina (310080, 32, 32)\n",
      "lacina (103886, 32, 32) --no spaces\n",
      "lacina (103886, 32, 32, 1) --good shape\n"
     ]
    }
   ],
   "source": [
    "lacina, hiragana = read_dataset_no_spaces(PATH)"
   ],
   "metadata": {
    "collapsed": false,
    "pycharm": {
     "name": "#%%\n"
    }
   }
  },
  {
   "cell_type": "code",
   "execution_count": 71,
   "outputs": [],
   "source": [
    "epochs = 4\n",
    "batch_size = 521"
   ],
   "metadata": {
    "collapsed": false,
    "pycharm": {
     "name": "#%%\n"
    }
   }
  },
  {
   "cell_type": "markdown",
   "source": [
    "### lacina data"
   ],
   "metadata": {
    "collapsed": false,
    "pycharm": {
     "name": "#%% md\n"
    }
   }
  },
  {
   "cell_type": "code",
   "execution_count": 72,
   "outputs": [],
   "source": [
    "autoencoder = create_vae()"
   ],
   "metadata": {
    "collapsed": false,
    "pycharm": {
     "name": "#%%\n"
    }
   }
  },
  {
   "cell_type": "code",
   "execution_count": 73,
   "outputs": [
    {
     "name": "stdout",
     "output_type": "stream",
     "text": [
      "Epoch 1/4\n",
      "200/200 [==============================] - 58s 280ms/step - loss: 370.9766 - reconstruction_loss: 246.7636 - kl_loss: 10.8780\n",
      "Epoch 2/4\n",
      "200/200 [==============================] - 57s 287ms/step - loss: 60.5108 - reconstruction_loss: 21.6440 - kl_loss: 19.5142\n",
      "Epoch 3/4\n",
      "200/200 [==============================] - 57s 285ms/step - loss: 20.1547 - reconstruction_loss: 4.0309 - kl_loss: 14.4896\n",
      "Epoch 4/4\n",
      "200/200 [==============================] - 57s 285ms/step - loss: 15.3698 - reconstruction_loss: 2.4621 - kl_loss: 12.4420\n"
     ]
    },
    {
     "data": {
      "text/plain": "<Figure size 1080x288 with 3 Axes>",
      "image/png": "[encoded data removed]"
     },
     "metadata": {
      "needs_background": "light"
     },
     "output_type": "display_data"
    }
   ],
   "source": [
    "history = autoencoder.fit(lacina, epochs = epochs, batch_size = batch_size)\n",
    "show_plots(history)"
   ],
   "metadata": {
    "collapsed": false,
    "pycharm": {
     "name": "#%%\n"
    }
   }
  },
  {
   "cell_type": "code",
   "execution_count": 74,
   "outputs": [
    {
     "name": "stdout",
     "output_type": "stream",
     "text": [
      "WARNING:tensorflow:Compiled the loaded model, but the compiled metrics have yet to be built. `model.compile_metrics` will be empty until you train or evaluate the model.\n"
     ]
    },
    {
     "name": "stderr",
     "output_type": "stream",
     "text": [
      "WARNING:tensorflow:Compiled the loaded model, but the compiled metrics have yet to be built. `model.compile_metrics` will be empty until you train or evaluate the model.\n",
      "WARNING:absl:Found untraced functions such as _jit_compiled_convolution_op, _jit_compiled_convolution_op, _jit_compiled_convolution_op while saving (showing 3 of 3). These functions will not be directly callable after loading.\n"
     ]
    },
    {
     "name": "stdout",
     "output_type": "stream",
     "text": [
      "INFO:tensorflow:Assets written to: vaeEncoder_lacina\\assets\n"
     ]
    },
    {
     "name": "stderr",
     "output_type": "stream",
     "text": [
      "INFO:tensorflow:Assets written to: vaeEncoder_lacina\\assets\n"
     ]
    },
    {
     "name": "stdout",
     "output_type": "stream",
     "text": [
      "WARNING:tensorflow:Compiled the loaded model, but the compiled metrics have yet to be built. `model.compile_metrics` will be empty until you train or evaluate the model.\n"
     ]
    },
    {
     "name": "stderr",
     "output_type": "stream",
     "text": [
      "WARNING:tensorflow:Compiled the loaded model, but the compiled metrics have yet to be built. `model.compile_metrics` will be empty until you train or evaluate the model.\n",
      "WARNING:absl:Found untraced functions such as _jit_compiled_convolution_op, _jit_compiled_convolution_op, _jit_compiled_convolution_op, _jit_compiled_convolution_op while saving (showing 4 of 4). These functions will not be directly callable after loading.\n"
     ]
    },
    {
     "name": "stdout",
     "output_type": "stream",
     "text": [
      "INFO:tensorflow:Assets written to: vaeDecoder_lacina\\assets\n"
     ]
    },
    {
     "name": "stderr",
     "output_type": "stream",
     "text": [
      "INFO:tensorflow:Assets written to: vaeDecoder_lacina\\assets\n"
     ]
    },
    {
     "name": "stdout",
     "output_type": "stream",
     "text": [
      "saved\n"
     ]
    }
   ],
   "source": [
    "save_autoencoder(autoencoder, 'vaeEncoder_lacina', 'vaeDecoder_lacina')"
   ],
   "metadata": {
    "collapsed": false,
    "pycharm": {
     "name": "#%%\n"
    }
   }
  },
  {
   "cell_type": "markdown",
   "source": [
    "### hiragana data"
   ],
   "metadata": {
    "collapsed": false,
    "pycharm": {
     "name": "#%% md\n"
    }
   }
  },
  {
   "cell_type": "code",
   "execution_count": 61,
   "outputs": [
    {
     "name": "stdout",
     "output_type": "stream",
     "text": [
      "Model: \"encoder\"\n",
      "__________________________________________________________________________________________________\n",
      " Layer (type)                   Output Shape         Param #     Connected to                     \n",
      "==================================================================================================\n",
      " input_22 (InputLayer)          [(None, 32, 32, 1)]  0           []                               \n",
      "                                                                                                  \n",
      " conv2d_33 (Conv2D)             (None, 16, 16, 32)   320         ['input_22[0][0]']               \n",
      "                                                                                                  \n",
      " conv2d_34 (Conv2D)             (None, 8, 8, 64)     18496       ['conv2d_33[0][0]']              \n",
      "                                                                                                  \n",
      " conv2d_35 (Conv2D)             (None, 4, 4, 64)     36928       ['conv2d_34[0][0]']              \n",
      "                                                                                                  \n",
      " flatten_11 (Flatten)           (None, 1024)         0           ['conv2d_35[0][0]']              \n",
      "                                                                                                  \n",
      " dense_21 (Dense)               (None, 300)          307500      ['flatten_11[0][0]']             \n",
      "                                                                                                  \n",
      " z_mean (Dense)                 (None, 14)           4214        ['dense_21[0][0]']               \n",
      "                                                                                                  \n",
      " z_log_var (Dense)              (None, 14)           4214        ['dense_21[0][0]']               \n",
      "                                                                                                  \n",
      " sampling_11 (Sampling)         (None, 14)           0           ['z_mean[0][0]',                 \n",
      "                                                                  'z_log_var[0][0]']              \n",
      "                                                                                                  \n",
      "==================================================================================================\n",
      "Total params: 371,672\n",
      "Trainable params: 371,672\n",
      "Non-trainable params: 0\n",
      "__________________________________________________________________________________________________\n",
      "Model: \"decoder\"\n",
      "_________________________________________________________________\n",
      " Layer (type)                Output Shape              Param #   \n",
      "=================================================================\n",
      " input_23 (InputLayer)       [(None, 14)]              0         \n",
      "                                                                 \n",
      " dense_22 (Dense)            (None, 1024)              15360     \n",
      "                                                                 \n",
      " reshape_10 (Reshape)        (None, 4, 4, 64)          0         \n",
      "                                                                 \n",
      " conv2d_transpose_40 (Conv2D  (None, 8, 8, 64)         36928     \n",
      " Transpose)                                                      \n",
      "                                                                 \n",
      " conv2d_transpose_41 (Conv2D  (None, 16, 16, 64)       36928     \n",
      " Transpose)                                                      \n",
      "                                                                 \n",
      " conv2d_transpose_42 (Conv2D  (None, 32, 32, 32)       18464     \n",
      " Transpose)                                                      \n",
      "                                                                 \n",
      " conv2d_transpose_43 (Conv2D  (None, 32, 32, 1)        289       \n",
      " Transpose)                                                      \n",
      "                                                                 \n",
      "=================================================================\n",
      "Total params: 107,969\n",
      "Trainable params: 107,969\n",
      "Non-trainable params: 0\n",
      "_________________________________________________________________\n"
     ]
    }
   ],
   "source": [
    "autoencoder = create_vae()"
   ],
   "metadata": {
    "collapsed": false,
    "pycharm": {
     "name": "#%%\n"
    }
   }
  },
  {
   "cell_type": "code",
   "execution_count": 62,
   "outputs": [
    {
     "name": "stdout",
     "output_type": "stream",
     "text": [
      "Epoch 1/4\n",
      "200/200 [==============================] - 60s 293ms/step - loss: 410.1083 - reconstruction_loss: 269.1082 - kl_loss: 13.9921\n",
      "Epoch 2/4\n",
      "200/200 [==============================] - 59s 297ms/step - loss: 57.8114 - reconstruction_loss: 21.2123 - kl_loss: 22.2271\n",
      "Epoch 3/4\n",
      "200/200 [==============================] - 58s 289ms/step - loss: 24.4828 - reconstruction_loss: 5.4432 - kl_loss: 17.3652\n",
      "Epoch 4/4\n",
      "200/200 [==============================] - 58s 292ms/step - loss: 19.2063 - reconstruction_loss: 3.2650 - kl_loss: 15.1405\n"
     ]
    },
    {
     "data": {
      "text/plain": "<Figure size 1080x288 with 3 Axes>",
      "image/png": "[encoded data removed]"
     },
     "metadata": {
      "needs_background": "light"
     },
     "output_type": "display_data"
    }
   ],
   "source": [
    "history = autoencoder.fit(hiragana, epochs = epochs, batch_size = batch_size)\n",
    "show_plots(history)"
   ],
   "metadata": {
    "collapsed": false,
    "pycharm": {
     "name": "#%%\n"
    }
   }
  },
  {
   "cell_type": "code",
   "execution_count": 63,
   "outputs": [
    {
     "name": "stdout",
     "output_type": "stream",
     "text": [
      "WARNING:tensorflow:Compiled the loaded model, but the compiled metrics have yet to be built. `model.compile_metrics` will be empty until you train or evaluate the model.\n"
     ]
    },
    {
     "name": "stderr",
     "output_type": "stream",
     "text": [
      "WARNING:tensorflow:Compiled the loaded model, but the compiled metrics have yet to be built. `model.compile_metrics` will be empty until you train or evaluate the model.\n",
      "WARNING:absl:Found untraced functions such as _jit_compiled_convolution_op, _jit_compiled_convolution_op, _jit_compiled_convolution_op while saving (showing 3 of 3). These functions will not be directly callable after loading.\n"
     ]
    },
    {
     "name": "stdout",
     "output_type": "stream",
     "text": [
      "INFO:tensorflow:Assets written to: vaeEncoder_hiragana\\assets\n"
     ]
    },
    {
     "name": "stderr",
     "output_type": "stream",
     "text": [
      "INFO:tensorflow:Assets written to: vaeEncoder_hiragana\\assets\n"
     ]
    },
    {
     "name": "stdout",
     "output_type": "stream",
     "text": [
      "WARNING:tensorflow:Compiled the loaded model, but the compiled metrics have yet to be built. `model.compile_metrics` will be empty until you train or evaluate the model.\n"
     ]
    },
    {
     "name": "stderr",
     "output_type": "stream",
     "text": [
      "WARNING:tensorflow:Compiled the loaded model, but the compiled metrics have yet to be built. `model.compile_metrics` will be empty until you train or evaluate the model.\n",
      "WARNING:absl:Found untraced functions such as _jit_compiled_convolution_op, _jit_compiled_convolution_op, _jit_compiled_convolution_op, _jit_compiled_convolution_op while saving (showing 4 of 4). These functions will not be directly callable after loading.\n"
     ]
    },
    {
     "name": "stdout",
     "output_type": "stream",
     "text": [
      "INFO:tensorflow:Assets written to: vaeDecoder_hiragana\\assets\n"
     ]
    },
    {
     "name": "stderr",
     "output_type": "stream",
     "text": [
      "INFO:tensorflow:Assets written to: vaeDecoder_hiragana\\assets\n"
     ]
    },
    {
     "name": "stdout",
     "output_type": "stream",
     "text": [
      "saved\n"
     ]
    }
   ],
   "source": [
    "save_autoencoder(autoencoder, 'vaeEncoder_hiragana', 'vaeDecoder_hiragana')"
   ],
   "metadata": {
    "collapsed": false,
    "pycharm": {
     "name": "#%%\n"
    }
   }
  },
  {
   "cell_type": "code",
   "execution_count": null,
   "outputs": [],
   "source": [],
   "metadata": {
    "collapsed": false,
    "pycharm": {
     "name": "#%%\n"
    }
   }
  },
  {
   "cell_type": "code",
   "execution_count": null,
   "outputs": [],
   "source": [],
   "metadata": {
    "collapsed": false,
    "pycharm": {
     "name": "#%%\n"
    }
   }
  }
 ],
 "metadata": {
  "kernelspec": {
   "display_name": "Python 3",
   "language": "python",
   "name": "python3"
  },
  "language_info": {
   "codemirror_mode": {
    "name": "ipython",
    "version": 2
   },
   "file_extension": ".py",
   "mimetype": "text/x-python",
   "name": "python",
   "nbconvert_exporter": "python",
   "pygments_lexer": "ipython2",
   "version": "2.7.6"
  }
 },
 "nbformat": 4,
 "nbformat_minor": 0
}